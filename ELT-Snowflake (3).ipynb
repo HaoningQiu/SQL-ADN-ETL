{
 "cells": [
  {
   "cell_type": "markdown",
   "id": "bf2fa454",
   "metadata": {},
   "source": [
    "import sys\n",
    "!{sys.executable} -m pip install snowflake-connector-Python\n",
    "!{sys.executable} -m pip install snowflake-sqlalchemy"
   ]
  },
  {
   "cell_type": "markdown",
   "id": "6f81d38e",
   "metadata": {
    "jupyter": {
     "outputs_hidden": true
    }
   },
   "source": [
    "### PLEASE CHECK IF YOU HAVEN'T ALREADY DONE THIS: For retrieving sql queries into python\n",
    "\n",
    "import sys\n",
    "!{sys.executable} -m pip install 'snowflake-connector-Python[pandas]'\n",
    "\n",
    "!{sys.executable} -m pip install --upgrade pyarrow (Not necessary but in case you want the latest version)"
   ]
  },
  {
   "cell_type": "code",
   "execution_count": 101,
   "id": "0f3384de",
   "metadata": {
    "collapsed": true,
    "jupyter": {
     "outputs_hidden": true
    }
   },
   "outputs": [
    {
     "name": "stdout",
     "output_type": "stream",
     "text": [
      "Package                    Version\n",
      "-------------------------- --------------------\n",
      "absl-py                    0.12.0\n",
      "aiohttp                    3.7.4.post0\n",
      "alembic                    1.5.8\n",
      "altair                     4.1.0\n",
      "anyio                      2.2.0\n",
      "appdirs                    1.4.3\n",
      "argon2-cffi                20.1.0\n",
      "asn1crypto                 1.4.0\n",
      "astroid                    2.5.6\n",
      "astunparse                 1.6.3\n",
      "async-generator            1.10\n",
      "async-timeout              3.0.1\n",
      "attrs                      20.3.0\n",
      "Automat                    20.2.0\n",
      "autopep8                   1.5.6\n",
      "backcall                   0.2.0\n",
      "bash_kernel                0.7.2\n",
      "beautifulsoup4             4.9.3\n",
      "black                      21.4b2\n",
      "bleach                     3.3.0\n",
      "blis                       0.7.4\n",
      "cachetools                 4.2.2\n",
      "catalogue                  2.0.4\n",
      "certifi                    2019.11.28\n",
      "certipy                    0.1.3\n",
      "cffi                       1.14.5\n",
      "chardet                    3.0.4\n",
      "charset-normalizer         2.0.11\n",
      "click                      7.1.2\n",
      "cloudpickle                1.6.0\n",
      "cmdstanpy                  0.9.75\n",
      "colorama                   0.4.4\n",
      "constantly                 15.1.0\n",
      "cryptography               3.4.7\n",
      "cssselect                  1.1.0\n",
      "cycler                     0.10.0\n",
      "cymem                      2.0.5\n",
      "Cython                     0.29.23\n",
      "datatable                  0.11.1\n",
      "dbus-python                1.2.16\n",
      "decorator                  4.4.2\n",
      "defusedxml                 0.7.1\n",
      "deprecation                2.1.0\n",
      "distlib                    0.3.0\n",
      "docutils                   0.17.1\n",
      "eli5                       0.11.0\n",
      "en-core-web-sm             3.0.0\n",
      "entrypoints                0.3\n",
      "et-xmlfile                 1.1.0\n",
      "filelock                   3.0.12\n",
      "flake8                     3.9.1\n",
      "flatbuffers                1.12\n",
      "future                     0.18.2\n",
      "fuzzywuzzy                 0.18.0\n",
      "gast                       0.3.3\n",
      "gensim                     4.0.1\n",
      "gitdb                      4.0.7\n",
      "GitPython                  3.1.14\n",
      "google-auth                1.30.0\n",
      "google-auth-oauthlib       0.4.4\n",
      "google-pasta               0.2.0\n",
      "graphviz                   0.16\n",
      "greenlet                   1.0.0\n",
      "grpcio                     1.32.0\n",
      "h2                         3.2.0\n",
      "h5py                       2.10.0\n",
      "hpack                      3.0.0\n",
      "hyperframe                 5.2.0\n",
      "hyperlink                  21.0.0\n",
      "idna                       2.8\n",
      "imageio                    2.9.0\n",
      "importlib-metadata         4.0.1\n",
      "incremental                21.3.0\n",
      "iniconfig                  1.1.1\n",
      "ipykernel                  5.5.3\n",
      "ipynbname                  2021.3.2\n",
      "ipython                    7.22.0\n",
      "ipython-genutils           0.2.0\n",
      "ipython-sql                0.4.0\n",
      "ipywidgets                 7.6.3\n",
      "isort                      5.8.0\n",
      "itemadapter                0.2.0\n",
      "itemloaders                1.0.4\n",
      "jax                        0.2.10\n",
      "jaxlib                     0.1.62\n",
      "jedi                       0.17.2\n",
      "jeepney                    0.6.0\n",
      "Jinja2                     2.11.3\n",
      "jmespath                   0.10.0\n",
      "joblib                     1.0.1\n",
      "json5                      0.9.5\n",
      "jsonschema                 3.2.0\n",
      "jupyter                    1.0.0\n",
      "jupyter-client             6.1.12\n",
      "jupyter-console            6.4.0\n",
      "jupyter-core               4.7.1\n",
      "jupyter-lsp                1.2.0\n",
      "jupyter-packaging          0.9.2\n",
      "jupyter-rsession-proxy     1.2\n",
      "jupyter-server             1.6.4\n",
      "jupyter-server-proxy       1.6.0\n",
      "jupyter-shiny-proxy        1.1\n",
      "jupyter-telemetry          0.1.0\n",
      "jupyterhub                 1.3.0\n",
      "jupyterlab                 2.2.9\n",
      "jupyterlab-code-formatter  1.3.8\n",
      "jupyterlab-git             0.24.0\n",
      "jupyterlab-pygments        0.1.2\n",
      "jupyterlab-server          1.2.0\n",
      "jupyterlab-sql             0.3.3\n",
      "jupyterlab-widgets         1.0.0\n",
      "jupytext                   1.8.0\n",
      "Keras                      2.4.3\n",
      "Keras-Preprocessing        1.1.2\n",
      "keras-tuner                1.0.2\n",
      "keyring                    23.0.1\n",
      "kiwisolver                 1.3.1\n",
      "lazy-object-proxy          1.6.0\n",
      "lightgbm                   3.2.1\n",
      "lime                       0.2.0.1\n",
      "linearmodels               4.24\n",
      "lineedit                   0.1.6\n",
      "llvmlite                   0.36.0\n",
      "lxml                       4.6.3\n",
      "Mako                       1.1.4\n",
      "Markdown                   3.3.4\n",
      "markdown-it-py             0.6.2\n",
      "MarkupSafe                 1.1.1\n",
      "matplotlib                 3.4.1\n",
      "mccabe                     0.6.1\n",
      "mdit-py-plugins            0.2.6\n",
      "mistune                    0.8.4\n",
      "more-itertools             4.2.0\n",
      "mpmath                     1.2.1\n",
      "multidict                  5.1.0\n",
      "murmurhash                 1.0.5\n",
      "mypy                       0.812\n",
      "mypy-extensions            0.4.3\n",
      "nbclient                   0.5.3\n",
      "nbconvert                  6.0.7\n",
      "nbdime                     2.1.0\n",
      "nbformat                   5.1.3\n",
      "nbgrader                   0.6.1\n",
      "nest-asyncio               1.5.1\n",
      "networkx                   2.5.1\n",
      "nltk                       3.6.2\n",
      "notebook                   6.3.0\n",
      "numba                      0.53.1\n",
      "numexpr                    2.7.3\n",
      "numpy                      1.20.2\n",
      "numpyro                    0.6.0\n",
      "oauthlib                   3.1.0\n",
      "openpyxl                   3.0.9\n",
      "opt-einsum                 3.3.0\n",
      "oscrypto                   1.2.1\n",
      "packaging                  20.9\n",
      "pamela                     1.0.0\n",
      "pandas                     1.2.4\n",
      "pandocfilters              1.4.3\n",
      "parsel                     1.6.0\n",
      "parso                      0.7.1\n",
      "pathspec                   0.8.1\n",
      "pathy                      0.5.2\n",
      "patsy                      0.5.1\n",
      "PDPbox                     0.2.1\n",
      "pexpect                    4.8.0\n",
      "pickleshare                0.7.5\n",
      "Pillow                     8.2.0\n",
      "pip                        22.0.3\n",
      "pkginfo                    1.7.0\n",
      "plotly                     4.14.3\n",
      "pluggy                     0.13.1\n",
      "preshed                    3.0.5\n",
      "prettytable                0.7.2\n",
      "priority                   1.3.0\n",
      "prometheus-client          0.10.1\n",
      "prompt-toolkit             3.0.18\n",
      "property-cached            1.6.4\n",
      "Protego                    0.1.16\n",
      "protobuf                   3.15.8\n",
      "psutil                     5.8.0\n",
      "psycopg2                   2.8.6\n",
      "ptyprocess                 0.7.0\n",
      "py                         1.10.0\n",
      "pyarrow                    6.0.1\n",
      "pyasn1                     0.4.8\n",
      "pyasn1-modules             0.2.8\n",
      "pycodestyle                2.7.0\n",
      "pycparser                  2.20\n",
      "pycryptodomex              3.14.1\n",
      "pydantic                   1.7.3\n",
      "PyDispatcher               2.0.5\n",
      "pydocstyle                 6.0.0\n",
      "pyflakes                   2.3.1\n",
      "Pygments                   2.8.1\n",
      "PyGObject                  3.36.0\n",
      "pyhdfe                     0.1.0\n",
      "PyJWT                      2.3.0\n",
      "pylint                     2.8.2\n",
      "pyOpenSSL                  20.0.1\n",
      "pyparsing                  2.4.7\n",
      "pyro-api                   0.1.2\n",
      "pyro-ppl                   1.6.0\n",
      "pyrsistent                 0.17.3\n",
      "pyrsm                      0.5.0\n",
      "pyspark                    3.0.1\n",
      "pytesseract                0.3.7\n",
      "pytest                     6.2.3\n",
      "python-apt                 2.0.0+ubuntu0.20.4.4\n",
      "python-dateutil            2.8.1\n",
      "python-debian              0.1.36ubuntu1\n",
      "python-dotenv              0.17.1\n",
      "python-editor              1.0.4\n",
      "python-json-logger         2.0.1\n",
      "python-jsonrpc-server      0.4.0\n",
      "python-language-server     0.36.2\n",
      "pytz                       2021.1\n",
      "PyWavelets                 1.1.1\n",
      "PyYAML                     5.4.1\n",
      "pyzmq                      22.0.3\n",
      "qgrid                      1.3.1\n",
      "qtconsole                  5.0.3\n",
      "QtPy                       1.9.0\n",
      "queuelib                   1.6.1\n",
      "radian                     0.5.10\n",
      "rchitect                   0.3.30\n",
      "readme-renderer            29.0\n",
      "regex                      2021.4.4\n",
      "requests                   2.22.0\n",
      "requests-oauthlib          1.3.0\n",
      "requests-toolbelt          0.9.1\n",
      "requests-unixsocket        0.2.0\n",
      "retrying                   1.3.3\n",
      "rfc3986                    1.4.0\n",
      "rope                       0.19.0\n",
      "rpy2                       3.4.4\n",
      "rsa                        4.7.2\n",
      "ruamel.yaml                0.17.4\n",
      "ruamel.yaml.clib           0.2.2\n",
      "scikit-image               0.18.1\n",
      "scikit-learn               0.24.2\n",
      "scipy                      1.6.3\n",
      "Scrapy                     2.5.0\n",
      "seaborn                    0.11.1\n",
      "SecretStorage              3.3.1\n",
      "selenium                   3.141.0\n",
      "Send2Trash                 1.5.0\n",
      "service-identity           18.1.0\n",
      "setuptools                 56.0.0\n",
      "shap                       0.39.0\n",
      "simpervisor                0.4\n",
      "six                        1.15.0\n",
      "sklearn                    0.0\n",
      "slicer                     0.0.7\n",
      "smart-open                 3.0.0\n",
      "smmap                      4.0.0\n",
      "sniffio                    1.2.0\n",
      "snowballstemmer            2.1.0\n",
      "snowflake-connector-python 2.7.4\n",
      "snowflake-sqlalchemy       1.3.3\n",
      "soupsieve                  2.2.1\n",
      "spacy                      3.0.6\n",
      "spacy-legacy               3.0.5\n",
      "SQLAlchemy                 1.4.7\n",
      "sqlparse                   0.4.1\n",
      "srsly                      2.4.1\n",
      "statsmodels                0.12.2\n",
      "supervisor                 4.1.0\n",
      "sympy                      1.8\n",
      "tabulate                   0.8.9\n",
      "tensorboard                2.5.0\n",
      "tensorboard-data-server    0.6.0\n",
      "tensorboard-plugin-wit     1.8.0\n",
      "tensorflow                 2.4.1\n",
      "tensorflow-estimator       2.4.0\n",
      "termcolor                  1.1.0\n",
      "terminado                  0.9.4\n",
      "terminaltables             3.1.0\n",
      "testpath                   0.4.4\n",
      "thinc                      8.0.3\n",
      "threadpoolctl              2.1.0\n",
      "tifffile                   2021.4.8\n",
      "toml                       0.10.2\n",
      "tomlkit                    0.7.0\n",
      "toolz                      0.11.1\n",
      "torch                      1.8.1\n",
      "tornado                    6.1\n",
      "tqdm                       4.60.0\n",
      "traitlets                  5.0.5\n",
      "tweepy                     3.10.0\n",
      "twine                      3.4.1\n",
      "Twisted                    21.2.0\n",
      "typed-ast                  1.4.3\n",
      "typer                      0.3.2\n",
      "typing-extensions          3.7.4.3\n",
      "tzlocal                    2.1\n",
      "ujson                      4.0.2\n",
      "urllib3                    1.25.8\n",
      "vincent                    0.4.4\n",
      "virtualenv                 20.0.17\n",
      "w3lib                      1.22.0\n",
      "wasabi                     0.8.2\n",
      "wcwidth                    0.2.5\n",
      "webencodings               0.5.1\n",
      "Werkzeug                   1.0.1\n",
      "wheel                      0.35.0\n",
      "widgetsnbextension         3.5.1\n",
      "wrapt                      1.12.1\n",
      "xgboost                    1.4.1\n",
      "xlrd                       2.0.1\n",
      "yapf                       0.31.0\n",
      "yarl                       1.6.3\n",
      "zipp                       1.0.0\n",
      "zope.interface             5.4.0\n"
     ]
    }
   ],
   "source": [
    "# !{sys.executable} -m pip list"
   ]
  },
  {
   "cell_type": "code",
   "execution_count": 1,
   "id": "fdc36b43",
   "metadata": {},
   "outputs": [],
   "source": [
    "import snowflake.connector as sf"
   ]
  },
  {
   "cell_type": "code",
   "execution_count": 125,
   "id": "4ad88877",
   "metadata": {},
   "outputs": [],
   "source": [
    "Account = 'DSA57842'\n",
    "UserName = 'tmxiang'\n",
    "password = '9r*WWEL&9mmEzvW'"
   ]
  },
  {
   "cell_type": "code",
   "execution_count": 3,
   "id": "ae8365de",
   "metadata": {},
   "outputs": [
    {
     "name": "stdin",
     "output_type": "stream",
     "text": [
      "Password: ···············\n"
     ]
    }
   ],
   "source": [
    "sfPswd = ''\n",
    "# Request user password if not provided already    \n",
    "if sfPswd == '' :\n",
    "  import getpass\n",
    "  sfPswd = getpass.getpass('Password:')"
   ]
  },
  {
   "cell_type": "code",
   "execution_count": 7,
   "id": "7fbf17d7",
   "metadata": {},
   "outputs": [
    {
     "name": "stdout",
     "output_type": "stream",
     "text": [
      "Snowflake Version: 6.3.1\n"
     ]
    }
   ],
   "source": [
    "# Test the connection to Snowflake by retrieving the version number\n",
    "try:\n",
    "    sfConnection = sf.connect(\n",
    "        user=UserName,\n",
    "        password=sfPswd,\n",
    "        account=Account\n",
    "    )\n",
    "    sfq = sfConnection.cursor()\n",
    "    sfq.execute(\"SELECT current_version()\")\n",
    "    sfResults = sfq.fetchall()\n",
    "    print('Snowflake Version: ' + sfResults[0][0])\n",
    "    sfq.close()\n",
    "    sfConnection.close()\n",
    "except:\n",
    "    print('Connection failed. Check credentials')"
   ]
  },
  {
   "cell_type": "code",
   "execution_count": 8,
   "id": "cdeb899c",
   "metadata": {},
   "outputs": [],
   "source": [
    "# Open connection to Snowflake\n",
    "sfConnection = sf.connect(\n",
    "    user=UserName,\n",
    "    password=sfPswd,\n",
    "    account=Account\n",
    ")\n",
    "sfq = sfConnection.cursor()"
   ]
  },
  {
   "cell_type": "code",
   "execution_count": 9,
   "id": "2ce44bb5",
   "metadata": {},
   "outputs": [
    {
     "data": {
      "text/plain": [
       "<snowflake.connector.cursor.SnowflakeCursor at 0x7f8ae1543a30>"
      ]
     },
     "execution_count": 9,
     "metadata": {},
     "output_type": "execute_result"
    }
   ],
   "source": [
    "sfq.execute('DROP DATABASE IF EXISTS DEMO_DB')"
   ]
  },
  {
   "cell_type": "code",
   "execution_count": 10,
   "id": "f33c2318",
   "metadata": {},
   "outputs": [
    {
     "data": {
      "text/plain": [
       "<snowflake.connector.cursor.SnowflakeCursor at 0x7f8ae1543a30>"
      ]
     },
     "execution_count": 10,
     "metadata": {},
     "output_type": "execute_result"
    }
   ],
   "source": [
    "sfq.execute('CREATE DATABASE DEMO_DB')\n",
    "sfq.execute('USE DATABASE DEMO_DB')\n",
    "sfq.execute('CREATE SCHEMA DEMO_SCHEMA')\n",
    "sfq.execute('USE DEMO_DB.DEMO_SCHEMA')\n",
    "sfq.execute('CREATE STAGE DEMO_STAGE')"
   ]
  },
  {
   "cell_type": "code",
   "execution_count": 11,
   "id": "031e5d77",
   "metadata": {},
   "outputs": [
    {
     "data": {
      "text/plain": [
       "<snowflake.connector.cursor.SnowflakeCursor at 0x7f8ae1543a30>"
      ]
     },
     "execution_count": 11,
     "metadata": {},
     "output_type": "execute_result"
    }
   ],
   "source": [
    "sfq.execute('DROP DATABASE IF EXISTS DEMO_DB')"
   ]
  },
  {
   "cell_type": "code",
   "execution_count": 12,
   "id": "f987f13a",
   "metadata": {},
   "outputs": [
    {
     "data": {
      "text/plain": [
       "<snowflake.connector.cursor.SnowflakeCursor at 0x7f8ae1543a30>"
      ]
     },
     "execution_count": 12,
     "metadata": {},
     "output_type": "execute_result"
    }
   ],
   "source": [
    "sfDatabase = 'DEMO_DB'\n",
    "sfSchema = 'DEMO_SCHEMA'\n",
    "sfStage = 'DEMO_STAGE'\n",
    "sfq.execute('CREATE DATABASE {0}'.format(sfDatabase))\n",
    "sfq.execute('USE DATABASE {0}'.format(sfDatabase))\n",
    "sfq.execute('CREATE SCHEMA {0}'.format(sfSchema))\n",
    "sfq.execute('USE {0}.{1}'.format(sfDatabase, sfSchema))\n",
    "sfq.execute('CREATE STAGE {0}'.format(sfStage))"
   ]
  },
  {
   "cell_type": "code",
   "execution_count": 13,
   "id": "a6b03a8a",
   "metadata": {},
   "outputs": [
    {
     "data": {
      "text/plain": [
       "<snowflake.connector.cursor.SnowflakeCursor at 0x7f8ae1543a30>"
      ]
     },
     "execution_count": 13,
     "metadata": {},
     "output_type": "execute_result"
    }
   ],
   "source": [
    "sfq.execute('DROP DATABASE IF EXISTS DEMO_DB')"
   ]
  },
  {
   "cell_type": "code",
   "execution_count": 14,
   "id": "5fd1f04d",
   "metadata": {},
   "outputs": [],
   "source": [
    "def CreateSnowflakeDBandSchema (\n",
    "    sfPswd = '',\n",
    "    sfAccount = Account,\n",
    "    sfUser = UserName,\n",
    "    sfDatabase = 'DEMO_DB',\n",
    "    sfSchema = 'DEMO_SCHEMA'\n",
    "):\n",
    "    import snowflake.connector as sf\n",
    "    # Request user password if not provided already\n",
    "    if sfPswd == '' :\n",
    "      import getpass\n",
    "      sfPswd = getpass.getpass('Password:')\n",
    "    # Test the connection to Snowflake\n",
    "    try:\n",
    "      sfConnection = sf.connect(\n",
    "          user=sfUser,\n",
    "          password=sfPswd,\n",
    "          account=sfAccount\n",
    "      )\n",
    "      sfq = sfConnection.cursor()\n",
    "      # sfq.execute(\"SELECT current_version()\")\n",
    "      # sfResults = sfq.fetchall()\n",
    "      # print('Snowflake Version: ' + sfResults[0][0])\n",
    "      sfq.close()\n",
    "      sfConnection.close()\n",
    "    except:\n",
    "      print('Connection failed. Check credentials')\n",
    "    # Open connection to Snowflake\n",
    "    sfConnection = sf.connect(\n",
    "      user=sfUser,\n",
    "      password=sfPswd,\n",
    "      account=sfAccount\n",
    "    )\n",
    "    sfq = sfConnection.cursor()\n",
    "    sfq.execute('CREATE DATABASE IF NOT EXISTS {0}'.format(sfDatabase))\n",
    "    sfq.execute('CREATE SCHEMA IF NOT EXISTS {0}.{1}'.format(sfDatabase, sfSchema))\n",
    "    print('Steps complete')"
   ]
  },
  {
   "cell_type": "code",
   "execution_count": 15,
   "id": "b0bc75f6",
   "metadata": {},
   "outputs": [
    {
     "name": "stdin",
     "output_type": "stream",
     "text": [
      "Password: ···············\n"
     ]
    },
    {
     "name": "stdout",
     "output_type": "stream",
     "text": [
      "Steps complete\n"
     ]
    }
   ],
   "source": [
    "CreateSnowflakeDBandSchema (\n",
    "    sfAccount = Account,\n",
    "    sfUser = UserName,\n",
    "    sfDatabase = 'STILL_ANOTHER_DEMO_DB',\n",
    "    sfSchema = 'STILL_ANOTHER_DEMO_SCHEMA'\n",
    ")"
   ]
  },
  {
   "cell_type": "markdown",
   "id": "e24c07dc",
   "metadata": {},
   "source": [
    "## We need to move the CSV Files into Snowflake Stage"
   ]
  },
  {
   "cell_type": "code",
   "execution_count": 84,
   "id": "bd448930",
   "metadata": {},
   "outputs": [],
   "source": [
    "import os\n",
    "import pandas as pd\n",
    "\n",
    "import sqlalchemy\n",
    "from sqlalchemy import create_engine\n",
    "from snowflake.sqlalchemy import URL"
   ]
  },
  {
   "cell_type": "code",
   "execution_count": 5,
   "id": "355c57b1",
   "metadata": {},
   "outputs": [],
   "source": [
    "def ConnectSnowflake (\n",
    "    sfPswd = '',\n",
    "    sfAccount = Account,\n",
    "    sfUser = UserName,\n",
    "    sfDatabase = 'MSBA_ETL',\n",
    "    sfSchema = 'MSBA_ETL'\n",
    "):\n",
    "    import snowflake.connector as sf\n",
    "    # Request user password if not provided already\n",
    "    if sfPswd == '' :\n",
    "      import getpass\n",
    "      sfPswd = getpass.getpass('Password:')\n",
    "    # Test the connection to Snowflake\n",
    "    try:\n",
    "      sfConnection = sf.connect(\n",
    "          user=sfUser,\n",
    "          password=sfPswd,\n",
    "          account=sfAccount\n",
    "      )\n",
    "      sfq = sfConnection.cursor()\n",
    "      # sfq.execute(\"SELECT current_version()\")\n",
    "      # sfResults = sfq.fetchall()\n",
    "      # print('Snowflake Version: ' + sfResults[0][0])\n",
    "      sfq.close()\n",
    "      sfConnection.close()\n",
    "    except:\n",
    "      print('Connection failed. Check credentials')\n",
    "    # Open connection to Snowflake\n",
    "    sfConnection = sf.connect(\n",
    "      user=sfUser,\n",
    "      password=sfPswd,\n",
    "      account=sfAccount\n",
    "    )\n",
    "    sfq = sfConnection.cursor()\n",
    "    print('Connection opened, here is your cursor')\n",
    "    return sfq"
   ]
  },
  {
   "cell_type": "code",
   "execution_count": 18,
   "id": "b96d8fc2",
   "metadata": {},
   "outputs": [
    {
     "name": "stdin",
     "output_type": "stream",
     "text": [
      "Password: ···············\n"
     ]
    },
    {
     "name": "stdout",
     "output_type": "stream",
     "text": [
      "Steps complete\n"
     ]
    }
   ],
   "source": [
    "CreateSnowflakeDBandSchema (\n",
    "    sfAccount = Account,\n",
    "    sfUser = UserName,\n",
    "    sfDatabase = 'MSBA_ETL',\n",
    "    sfSchema = 'MSBA_ETL'\n",
    ")"
   ]
  },
  {
   "cell_type": "code",
   "execution_count": 170,
   "id": "8f69d274",
   "metadata": {},
   "outputs": [
    {
     "name": "stdout",
     "output_type": "stream",
     "text": [
      "Connection opened, here is your cursor\n"
     ]
    }
   ],
   "source": [
    "engine = ConnectSnowflake(sfPswd=password)"
   ]
  },
  {
   "cell_type": "code",
   "execution_count": 20,
   "id": "31ae3496",
   "metadata": {},
   "outputs": [
    {
     "data": {
      "text/plain": [
       "<snowflake.connector.cursor.SnowflakeCursor at 0x7f8a8e51bfa0>"
      ]
     },
     "execution_count": 20,
     "metadata": {},
     "output_type": "execute_result"
    }
   ],
   "source": [
    "engine.execute('CREATE STAGE IF NOT EXISTS \"MSBA_ETL\".\"PUBLIC\".CSV_STAGE')\n",
    "##engine.CREATE STAGE \"DEMO_DB2\".\"PUBLIC\".CSV_STAGE COMMENT = 'Place to stage the CSV';"
   ]
  },
  {
   "cell_type": "code",
   "execution_count": 7,
   "id": "92321cc9",
   "metadata": {},
   "outputs": [
    {
     "data": {
      "text/plain": [
       "'../../../../data/MonthlyPOData/2013-1.csv'"
      ]
     },
     "execution_count": 7,
     "metadata": {},
     "output_type": "execute_result"
    }
   ],
   "source": [
    "file_name = \"/data/MonthlyPOData/2013-1.csv\"\n",
    "file_path = os.path.relpath(file_name)\n",
    "file_path"
   ]
  },
  {
   "cell_type": "markdown",
   "id": "185a6582",
   "metadata": {},
   "source": [
    "## This doesn't work Next thing we need is to move the csv files into stage... \n",
    "\n",
    "Prof wants us to to do it this way.  I was just attempting to load a \n",
    "https://docs.snowflake.com/en/user-guide/data-load-considerations-stage.html\n"
   ]
  },
  {
   "cell_type": "code",
   "execution_count": 24,
   "id": "3f726d45",
   "metadata": {
    "collapsed": true,
    "jupyter": {
     "outputs_hidden": true
    }
   },
   "outputs": [
    {
     "ename": "ProgrammingError",
     "evalue": "090105 (22000): Cannot perform STAGE PUT. This session does not have a current database. Call 'USE DATABASE', or use a qualified name.",
     "output_type": "error",
     "traceback": [
      "\u001b[0;31m---------------------------------------------------------------------------\u001b[0m",
      "\u001b[0;31mProgrammingError\u001b[0m                          Traceback (most recent call last)",
      "\u001b[0;32m<ipython-input-24-4ecaf2de8fbb>\u001b[0m in \u001b[0;36m<module>\u001b[0;34m\u001b[0m\n\u001b[0;32m----> 1\u001b[0;31m \u001b[0mengine\u001b[0m\u001b[0;34m.\u001b[0m\u001b[0mexecute\u001b[0m\u001b[0;34m(\u001b[0m\u001b[0;34mf\"put file://{file_path}* @%2013-1.csv\"\u001b[0m\u001b[0;34m)\u001b[0m\u001b[0;34m\u001b[0m\u001b[0;34m\u001b[0m\u001b[0m\n\u001b[0m",
      "\u001b[0;32m~/.rsm-msba/lib/python3.8/site-packages/snowflake/connector/cursor.py\u001b[0m in \u001b[0;36mexecute\u001b[0;34m(self, command, params, _bind_stage, timeout, _exec_async, _do_reset, _put_callback, _put_azure_callback, _put_callback_output_stream, _get_callback, _get_azure_callback, _get_callback_output_stream, _show_progress_bar, _statement_params, _is_internal, _describe_only, _no_results, _use_ijson, _is_put_get, _raise_put_get_error, _force_put_overwrite, file_stream)\u001b[0m\n\u001b[1;32m    789\u001b[0m             \u001b[0mis_integrity_error\u001b[0m \u001b[0;34m=\u001b[0m \u001b[0mcode\u001b[0m \u001b[0;34m==\u001b[0m \u001b[0;34m\"100072\"\u001b[0m  \u001b[0;31m# NULL result in a non-nullable column\u001b[0m\u001b[0;34m\u001b[0m\u001b[0;34m\u001b[0m\u001b[0m\n\u001b[1;32m    790\u001b[0m             \u001b[0merror_class\u001b[0m \u001b[0;34m=\u001b[0m \u001b[0mIntegrityError\u001b[0m \u001b[0;32mif\u001b[0m \u001b[0mis_integrity_error\u001b[0m \u001b[0;32melse\u001b[0m \u001b[0mProgrammingError\u001b[0m\u001b[0;34m\u001b[0m\u001b[0;34m\u001b[0m\u001b[0m\n\u001b[0;32m--> 791\u001b[0;31m             Error.errorhandler_wrapper(\n\u001b[0m\u001b[1;32m    792\u001b[0m                 \u001b[0mself\u001b[0m\u001b[0;34m.\u001b[0m\u001b[0mconnection\u001b[0m\u001b[0;34m,\u001b[0m \u001b[0mself\u001b[0m\u001b[0;34m,\u001b[0m \u001b[0merror_class\u001b[0m\u001b[0;34m,\u001b[0m \u001b[0merrvalue\u001b[0m\u001b[0;34m\u001b[0m\u001b[0;34m\u001b[0m\u001b[0m\n\u001b[1;32m    793\u001b[0m             )\n",
      "\u001b[0;32m~/.rsm-msba/lib/python3.8/site-packages/snowflake/connector/errors.py\u001b[0m in \u001b[0;36merrorhandler_wrapper\u001b[0;34m(connection, cursor, error_class, error_value)\u001b[0m\n\u001b[1;32m    270\u001b[0m         \"\"\"\n\u001b[1;32m    271\u001b[0m \u001b[0;34m\u001b[0m\u001b[0m\n\u001b[0;32m--> 272\u001b[0;31m         handed_over = Error.hand_to_other_handler(\n\u001b[0m\u001b[1;32m    273\u001b[0m             \u001b[0mconnection\u001b[0m\u001b[0;34m,\u001b[0m\u001b[0;34m\u001b[0m\u001b[0;34m\u001b[0m\u001b[0m\n\u001b[1;32m    274\u001b[0m             \u001b[0mcursor\u001b[0m\u001b[0;34m,\u001b[0m\u001b[0;34m\u001b[0m\u001b[0;34m\u001b[0m\u001b[0m\n",
      "\u001b[0;32m~/.rsm-msba/lib/python3.8/site-packages/snowflake/connector/errors.py\u001b[0m in \u001b[0;36mhand_to_other_handler\u001b[0;34m(connection, cursor, error_class, error_value)\u001b[0m\n\u001b[1;32m    325\u001b[0m         \u001b[0;32mif\u001b[0m \u001b[0mcursor\u001b[0m \u001b[0;32mis\u001b[0m \u001b[0;32mnot\u001b[0m \u001b[0;32mNone\u001b[0m\u001b[0;34m:\u001b[0m\u001b[0;34m\u001b[0m\u001b[0;34m\u001b[0m\u001b[0m\n\u001b[1;32m    326\u001b[0m             \u001b[0mcursor\u001b[0m\u001b[0;34m.\u001b[0m\u001b[0mmessages\u001b[0m\u001b[0;34m.\u001b[0m\u001b[0mappend\u001b[0m\u001b[0;34m(\u001b[0m\u001b[0;34m(\u001b[0m\u001b[0merror_class\u001b[0m\u001b[0;34m,\u001b[0m \u001b[0merror_value\u001b[0m\u001b[0;34m)\u001b[0m\u001b[0;34m)\u001b[0m\u001b[0;34m\u001b[0m\u001b[0;34m\u001b[0m\u001b[0m\n\u001b[0;32m--> 327\u001b[0;31m             \u001b[0mcursor\u001b[0m\u001b[0;34m.\u001b[0m\u001b[0merrorhandler\u001b[0m\u001b[0;34m(\u001b[0m\u001b[0mconnection\u001b[0m\u001b[0;34m,\u001b[0m \u001b[0mcursor\u001b[0m\u001b[0;34m,\u001b[0m \u001b[0merror_class\u001b[0m\u001b[0;34m,\u001b[0m \u001b[0merror_value\u001b[0m\u001b[0;34m)\u001b[0m\u001b[0;34m\u001b[0m\u001b[0;34m\u001b[0m\u001b[0m\n\u001b[0m\u001b[1;32m    328\u001b[0m             \u001b[0;32mreturn\u001b[0m \u001b[0;32mTrue\u001b[0m\u001b[0;34m\u001b[0m\u001b[0;34m\u001b[0m\u001b[0m\n\u001b[1;32m    329\u001b[0m         \u001b[0;32melif\u001b[0m \u001b[0mconnection\u001b[0m \u001b[0;32mis\u001b[0m \u001b[0;32mnot\u001b[0m \u001b[0;32mNone\u001b[0m\u001b[0;34m:\u001b[0m\u001b[0;34m\u001b[0m\u001b[0;34m\u001b[0m\u001b[0m\n",
      "\u001b[0;32m~/.rsm-msba/lib/python3.8/site-packages/snowflake/connector/errors.py\u001b[0m in \u001b[0;36mdefault_errorhandler\u001b[0;34m(connection, cursor, error_class, error_value)\u001b[0m\n\u001b[1;32m    204\u001b[0m             \u001b[0mA\u001b[0m \u001b[0mSnowflake\u001b[0m \u001b[0merror\u001b[0m\u001b[0;34m.\u001b[0m\u001b[0;34m\u001b[0m\u001b[0;34m\u001b[0m\u001b[0m\n\u001b[1;32m    205\u001b[0m         \"\"\"\n\u001b[0;32m--> 206\u001b[0;31m         raise error_class(\n\u001b[0m\u001b[1;32m    207\u001b[0m             \u001b[0mmsg\u001b[0m\u001b[0;34m=\u001b[0m\u001b[0merror_value\u001b[0m\u001b[0;34m.\u001b[0m\u001b[0mget\u001b[0m\u001b[0;34m(\u001b[0m\u001b[0;34m\"msg\"\u001b[0m\u001b[0;34m)\u001b[0m\u001b[0;34m,\u001b[0m\u001b[0;34m\u001b[0m\u001b[0;34m\u001b[0m\u001b[0m\n\u001b[1;32m    208\u001b[0m             \u001b[0merrno\u001b[0m\u001b[0;34m=\u001b[0m\u001b[0merror_value\u001b[0m\u001b[0;34m.\u001b[0m\u001b[0mget\u001b[0m\u001b[0;34m(\u001b[0m\u001b[0;34m\"errno\"\u001b[0m\u001b[0;34m)\u001b[0m\u001b[0;34m,\u001b[0m\u001b[0;34m\u001b[0m\u001b[0;34m\u001b[0m\u001b[0m\n",
      "\u001b[0;31mProgrammingError\u001b[0m: 090105 (22000): Cannot perform STAGE PUT. This session does not have a current database. Call 'USE DATABASE', or use a qualified name."
     ]
    }
   ],
   "source": [
    "#engine.execute(f\"put file://{file_path}* @%2013-1.csv\")"
   ]
  },
  {
   "cell_type": "markdown",
   "id": "0c8d9b38",
   "metadata": {},
   "source": [
    "## Cell below this is just to see the list of columns from the files "
   ]
  },
  {
   "cell_type": "code",
   "execution_count": 10,
   "id": "e04735fe",
   "metadata": {},
   "outputs": [
    {
     "data": {
      "text/plain": [
       "Index(['PurchaseOrderID', 'SupplierID', 'OrderDate', 'DeliveryMethodID',\n",
       "       'ContactPersonID', 'ExpectedDeliveryDate', 'SupplierReference',\n",
       "       'IsOrderFinalized', 'Comments', 'InternalComments', 'LastEditedBy',\n",
       "       'LastEditedWhen', 'PurchaseOrderLineID', 'StockItemID', 'OrderedOuters',\n",
       "       'Description', 'ReceivedOuters', 'PackageTypeID',\n",
       "       'ExpectedUnitPricePerOuter', 'LastReceiptDate', 'IsOrderLineFinalized',\n",
       "       'Right_LastEditedBy', 'Right_LastEditedWhen'],\n",
       "      dtype='object')"
      ]
     },
     "execution_count": 10,
     "metadata": {},
     "output_type": "execute_result"
    }
   ],
   "source": [
    "data_sample = pd.read_csv(f\"Monthly_PO_Data/{files[0]}\")\n",
    "data_sample.columns"
   ]
  },
  {
   "cell_type": "code",
   "execution_count": 172,
   "id": "393c97ea",
   "metadata": {},
   "outputs": [
    {
     "data": {
      "text/plain": [
       "<snowflake.connector.cursor.SnowflakeCursor at 0x7efd57361a30>"
      ]
     },
     "execution_count": 172,
     "metadata": {},
     "output_type": "execute_result"
    }
   ],
   "source": [
    "# Seting environment to creating test table: using the MSBA_ETL database and PUBLIC scheme\n",
    "engine.execute(\"USE WAREHOUSE COMPUTE_WH\")\n",
    "#engine.execute(\"USE DATABASE MSBA_ETL\")\n",
    "engine.execute(\"USE SCHEMA MSBA_ETL.PUBLIC\")"
   ]
  },
  {
   "cell_type": "code",
   "execution_count": 8,
   "id": "d22898ea",
   "metadata": {},
   "outputs": [],
   "source": [
    "# Whatever folder name you guys stored your csv files in\n",
    "folder = \"Monthly_PO_Data/\"\n",
    "files = os.listdir(folder)"
   ]
  },
  {
   "cell_type": "code",
   "execution_count": 32,
   "id": "5b101955",
   "metadata": {},
   "outputs": [
    {
     "data": {
      "text/plain": [
       "{'2013', '2014', '2015', '2016'}"
      ]
     },
     "execution_count": 32,
     "metadata": {},
     "output_type": "execute_result"
    }
   ],
   "source": [
    "# Get the years for the files\n",
    "years = set([y.split(\"-\")[0] for y in files])\n",
    "years"
   ]
  },
  {
   "cell_type": "code",
   "execution_count": 220,
   "id": "35e88d80",
   "metadata": {},
   "outputs": [
    {
     "data": {
      "text/plain": [
       "4"
      ]
     },
     "execution_count": 220,
     "metadata": {},
     "output_type": "execute_result"
    }
   ],
   "source": [
    "len(years)"
   ]
  },
  {
   "cell_type": "markdown",
   "id": "4101dd94",
   "metadata": {},
   "source": [
    "## ACTUAL: Staging and Copying files into official monthly_po table"
   ]
  },
  {
   "cell_type": "code",
   "execution_count": 233,
   "id": "94e3466c",
   "metadata": {},
   "outputs": [],
   "source": [
    "# Identify the location of the table you want to stage and load data into\n",
    "warehouse = 'COMPUTE_WH'\n",
    "schema = 'MSBA_ETL.PUBLIC'"
   ]
  },
  {
   "cell_type": "code",
   "execution_count": 253,
   "id": "2c39ba59",
   "metadata": {},
   "outputs": [],
   "source": [
    "# user-defined functions for staging and removing files\n",
    "def staging(file_pattern_lst, table, wh=warehouse, schema=schema, sub_folder=None):\n",
    "    engine.execute(f\"USE WAREHOUSE {wh}\")\n",
    "    engine.execute(f\"USE SCHEMA {schema}\")\n",
    "    \n",
    "    if (type(file_pattern_lst) == str) & (sub_folder==None):\n",
    "        engine.execute(f\"put file://{f}* @%{table}\")\n",
    "    \n",
    "    else:\n",
    "        for f in file_pattern_lst:\n",
    "            engine.execute(f\"put file://{sub_folder}/{f}* @%{table}\")\n",
    "\n",
    "        \n",
    "def remove_files(staging, file_ext=None):\n",
    "    if file_ext==None:\n",
    "        engine.execute(f\"REMOVE @{staging}\")\n",
    "    else:\n",
    "        engine.execute(f\"REMOVE @%{staging} PATTERN='.*.{file_ext}'\")"
   ]
  },
  {
   "cell_type": "code",
   "execution_count": 63,
   "id": "e1876fe6",
   "metadata": {},
   "outputs": [
    {
     "data": {
      "text/plain": [
       "<snowflake.connector.cursor.SnowflakeCursor at 0x7efd039f3f70>"
      ]
     },
     "execution_count": 63,
     "metadata": {},
     "output_type": "execute_result"
    }
   ],
   "source": [
    "# Create File Format if it doesn't exist already\n",
    "engine.execute(\"CREATE FILE FORMAT IF NOT EXISTS CSV_FORMAT \"\n",
    "                \"TYPE = 'CSV' \"\n",
    "                \"FIELD_DELIMITER = ',' \"\n",
    "                \"SKIP_HEADER = 1 \"\n",
    "                \"FIELD_OPTIONALLY_ENCLOSED_BY = '\\042' \"\n",
    "                \"ERROR_ON_COLUMN_COUNT_MISMATCH = TRUE \"\n",
    "                \"NULL_IF=('null')\"\n",
    "              )"
   ]
  },
  {
   "cell_type": "code",
   "execution_count": 47,
   "id": "b4afc67a",
   "metadata": {},
   "outputs": [
    {
     "data": {
      "text/plain": [
       "<snowflake.connector.cursor.SnowflakeCursor at 0x7efd039f3f70>"
      ]
     },
     "execution_count": 47,
     "metadata": {},
     "output_type": "execute_result"
    }
   ],
   "source": [
    "# ... manual input to create default table and selecting the right columns to copy into table (A terrible nightmare)\n",
    "engine.execute(\"CREATE OR REPLACE TABLE \"\n",
    "               \"MONTHLY_PO(PurchaseOrderID number, SupplierID number, OrderDate date, DeliveryMethodID number, \"\n",
    "               \"ExpectedDeliveryDate date, SupplierReference varchar, LastEditedBy number, PurchaseOrderLineID number, \"\n",
    "               \"StockItemID number, OrderedOuters number, Description varchar, ReceivedOuters number, PackageTypeID number, \"\n",
    "               \"ExpectedUnitPricePerOuter number, LastReceiptDate date, Right_LastEditedBy number)\")"
   ]
  },
  {
   "cell_type": "code",
   "execution_count": 256,
   "id": "8c570bed",
   "metadata": {},
   "outputs": [],
   "source": [
    "# stagging all PO files into table\n",
    "staging(years, table=\"monthly_po\", sub_folder=\"Monthly_PO_Data\")"
   ]
  },
  {
   "cell_type": "code",
   "execution_count": 62,
   "id": "3ddd355e",
   "metadata": {},
   "outputs": [
    {
     "data": {
      "text/plain": [
       "<snowflake.connector.cursor.SnowflakeCursor at 0x7efd039f3f70>"
      ]
     },
     "execution_count": 62,
     "metadata": {},
     "output_type": "execute_result"
    }
   ],
   "source": [
    "engine.execute(f\"COPY INTO monthly_po FROM (SELECT $1, $2, $3, $4, $6, $7, $11, $13, $14, $15, $16, $17, $18, $19, $20, $22 FROM @%monthly_po) \"\n",
    "               \"FILE_FORMAT = (FORMAT_NAME = CSV_FORMAT)\")"
   ]
  },
  {
   "cell_type": "code",
   "execution_count": 59,
   "id": "73a68d1b",
   "metadata": {},
   "outputs": [
    {
     "data": {
      "text/plain": [
       "<snowflake.connector.cursor.SnowflakeCursor at 0x7efd039f3f70>"
      ]
     },
     "execution_count": 59,
     "metadata": {},
     "output_type": "execute_result"
    }
   ],
   "source": [
    "# Can't really see it unless you go into Snowflakes, trying to figure out how to apply pandas to sql commands...\n",
    "engine.execute(\"LIST @%monthly_po\")"
   ]
  },
  {
   "cell_type": "code",
   "execution_count": 155,
   "id": "696ef6bc",
   "metadata": {},
   "outputs": [],
   "source": [
    "# squery statement\n",
    "sql = \"LIST @%monthly_po\""
   ]
  },
  {
   "cell_type": "code",
   "execution_count": 156,
   "id": "bd2bc617",
   "metadata": {},
   "outputs": [],
   "source": [
    "# Fetching sql query into python\n",
    "engine.execute(sql)\n",
    "data = engine.fetchall()"
   ]
  },
  {
   "cell_type": "code",
   "execution_count": 157,
   "id": "c47088c6",
   "metadata": {},
   "outputs": [
    {
     "data": {
      "text/plain": [
       "(41, 4)"
      ]
     },
     "execution_count": 157,
     "metadata": {},
     "output_type": "execute_result"
    }
   ],
   "source": [
    "# What the retrieved data will look like in a pandas DF.\n",
    "df = pd.DataFrame(data)\n",
    "df.shape"
   ]
  },
  {
   "cell_type": "code",
   "execution_count": 158,
   "id": "cb66e603",
   "metadata": {},
   "outputs": [],
   "source": [
    "# Remove files from staging for best practice\n",
    "remove_files('monthly_po', 'csv')"
   ]
  },
  {
   "cell_type": "code",
   "execution_count": 198,
   "id": "210e899f",
   "metadata": {},
   "outputs": [],
   "source": [
    "# New query for 100 rows from monthly_po data\n",
    "sql = \"select * from monthly_po limit 100;\""
   ]
  },
  {
   "cell_type": "code",
   "execution_count": 177,
   "id": "44163f27",
   "metadata": {},
   "outputs": [],
   "source": [
    "engine.execute(sql)\n",
    "data = engine.fetchall()"
   ]
  },
  {
   "cell_type": "code",
   "execution_count": 178,
   "id": "c44bce8b",
   "metadata": {
    "collapsed": true,
    "jupyter": {
     "outputs_hidden": true
    }
   },
   "outputs": [
    {
     "data": {
      "text/html": [
       "<div>\n",
       "<style scoped>\n",
       "    .dataframe tbody tr th:only-of-type {\n",
       "        vertical-align: middle;\n",
       "    }\n",
       "\n",
       "    .dataframe tbody tr th {\n",
       "        vertical-align: top;\n",
       "    }\n",
       "\n",
       "    .dataframe thead th {\n",
       "        text-align: right;\n",
       "    }\n",
       "</style>\n",
       "<table border=\"1\" class=\"dataframe\">\n",
       "  <thead>\n",
       "    <tr style=\"text-align: right;\">\n",
       "      <th></th>\n",
       "      <th>0</th>\n",
       "      <th>1</th>\n",
       "      <th>2</th>\n",
       "      <th>3</th>\n",
       "      <th>4</th>\n",
       "      <th>5</th>\n",
       "      <th>6</th>\n",
       "      <th>7</th>\n",
       "      <th>8</th>\n",
       "      <th>9</th>\n",
       "      <th>10</th>\n",
       "      <th>11</th>\n",
       "      <th>12</th>\n",
       "      <th>13</th>\n",
       "      <th>14</th>\n",
       "      <th>15</th>\n",
       "    </tr>\n",
       "  </thead>\n",
       "  <tbody>\n",
       "    <tr>\n",
       "      <th>0</th>\n",
       "      <td>558</td>\n",
       "      <td>4</td>\n",
       "      <td>2013-12-02</td>\n",
       "      <td>7</td>\n",
       "      <td>2013-12-22</td>\n",
       "      <td>293092</td>\n",
       "      <td>8</td>\n",
       "      <td>2160</td>\n",
       "      <td>77</td>\n",
       "      <td>767</td>\n",
       "      <td>\"The Gu\" red shirt XML tag t-shirt (White) XXS</td>\n",
       "      <td>767</td>\n",
       "      <td>6</td>\n",
       "      <td>84</td>\n",
       "      <td>2013-12-03</td>\n",
       "      <td>8</td>\n",
       "    </tr>\n",
       "    <tr>\n",
       "      <th>1</th>\n",
       "      <td>558</td>\n",
       "      <td>4</td>\n",
       "      <td>2013-12-02</td>\n",
       "      <td>7</td>\n",
       "      <td>2013-12-22</td>\n",
       "      <td>293092</td>\n",
       "      <td>8</td>\n",
       "      <td>2161</td>\n",
       "      <td>78</td>\n",
       "      <td>981</td>\n",
       "      <td>\"The Gu\" red shirt XML tag t-shirt (White) XS</td>\n",
       "      <td>981</td>\n",
       "      <td>6</td>\n",
       "      <td>84</td>\n",
       "      <td>2013-12-03</td>\n",
       "      <td>8</td>\n",
       "    </tr>\n",
       "    <tr>\n",
       "      <th>2</th>\n",
       "      <td>558</td>\n",
       "      <td>4</td>\n",
       "      <td>2013-12-02</td>\n",
       "      <td>7</td>\n",
       "      <td>2013-12-22</td>\n",
       "      <td>293092</td>\n",
       "      <td>8</td>\n",
       "      <td>2162</td>\n",
       "      <td>80</td>\n",
       "      <td>397</td>\n",
       "      <td>\"The Gu\" red shirt XML tag t-shirt (White) M</td>\n",
       "      <td>397</td>\n",
       "      <td>6</td>\n",
       "      <td>84</td>\n",
       "      <td>2013-12-03</td>\n",
       "      <td>8</td>\n",
       "    </tr>\n",
       "    <tr>\n",
       "      <th>3</th>\n",
       "      <td>558</td>\n",
       "      <td>4</td>\n",
       "      <td>2013-12-02</td>\n",
       "      <td>7</td>\n",
       "      <td>2013-12-22</td>\n",
       "      <td>293092</td>\n",
       "      <td>8</td>\n",
       "      <td>2163</td>\n",
       "      <td>86</td>\n",
       "      <td>816</td>\n",
       "      <td>\"The Gu\" red shirt XML tag t-shirt (White) 5XL</td>\n",
       "      <td>816</td>\n",
       "      <td>6</td>\n",
       "      <td>96</td>\n",
       "      <td>2013-12-03</td>\n",
       "      <td>8</td>\n",
       "    </tr>\n",
       "    <tr>\n",
       "      <th>4</th>\n",
       "      <td>558</td>\n",
       "      <td>4</td>\n",
       "      <td>2013-12-02</td>\n",
       "      <td>7</td>\n",
       "      <td>2013-12-22</td>\n",
       "      <td>293092</td>\n",
       "      <td>8</td>\n",
       "      <td>2164</td>\n",
       "      <td>95</td>\n",
       "      <td>521</td>\n",
       "      <td>\"The Gu\" red shirt XML tag t-shirt (Black) XL</td>\n",
       "      <td>521</td>\n",
       "      <td>6</td>\n",
       "      <td>90</td>\n",
       "      <td>2013-12-03</td>\n",
       "      <td>8</td>\n",
       "    </tr>\n",
       "    <tr>\n",
       "      <th>...</th>\n",
       "      <td>...</td>\n",
       "      <td>...</td>\n",
       "      <td>...</td>\n",
       "      <td>...</td>\n",
       "      <td>...</td>\n",
       "      <td>...</td>\n",
       "      <td>...</td>\n",
       "      <td>...</td>\n",
       "      <td>...</td>\n",
       "      <td>...</td>\n",
       "      <td>...</td>\n",
       "      <td>...</td>\n",
       "      <td>...</td>\n",
       "      <td>...</td>\n",
       "      <td>...</td>\n",
       "      <td>...</td>\n",
       "    </tr>\n",
       "    <tr>\n",
       "      <th>95</th>\n",
       "      <td>582</td>\n",
       "      <td>7</td>\n",
       "      <td>2013-12-17</td>\n",
       "      <td>2</td>\n",
       "      <td>2014-01-06</td>\n",
       "      <td>BC0280982</td>\n",
       "      <td>15</td>\n",
       "      <td>2255</td>\n",
       "      <td>193</td>\n",
       "      <td>408</td>\n",
       "      <td>Black and orange glass with care despatch tape...</td>\n",
       "      <td>408</td>\n",
       "      <td>7</td>\n",
       "      <td>38</td>\n",
       "      <td>2013-12-18</td>\n",
       "      <td>15</td>\n",
       "    </tr>\n",
       "    <tr>\n",
       "      <th>96</th>\n",
       "      <td>582</td>\n",
       "      <td>7</td>\n",
       "      <td>2013-12-17</td>\n",
       "      <td>2</td>\n",
       "      <td>2014-01-06</td>\n",
       "      <td>BC0280982</td>\n",
       "      <td>15</td>\n",
       "      <td>2256</td>\n",
       "      <td>204</td>\n",
       "      <td>483</td>\n",
       "      <td>Tape dispenser (Red)</td>\n",
       "      <td>483</td>\n",
       "      <td>7</td>\n",
       "      <td>170</td>\n",
       "      <td>2013-12-18</td>\n",
       "      <td>15</td>\n",
       "    </tr>\n",
       "    <tr>\n",
       "      <th>97</th>\n",
       "      <td>583</td>\n",
       "      <td>4</td>\n",
       "      <td>2013-12-18</td>\n",
       "      <td>7</td>\n",
       "      <td>2014-01-07</td>\n",
       "      <td>293092</td>\n",
       "      <td>20</td>\n",
       "      <td>2257</td>\n",
       "      <td>77</td>\n",
       "      <td>837</td>\n",
       "      <td>\"The Gu\" red shirt XML tag t-shirt (White) XXS</td>\n",
       "      <td>837</td>\n",
       "      <td>6</td>\n",
       "      <td>84</td>\n",
       "      <td>2013-12-19</td>\n",
       "      <td>20</td>\n",
       "    </tr>\n",
       "    <tr>\n",
       "      <th>98</th>\n",
       "      <td>583</td>\n",
       "      <td>4</td>\n",
       "      <td>2013-12-18</td>\n",
       "      <td>7</td>\n",
       "      <td>2014-01-07</td>\n",
       "      <td>293092</td>\n",
       "      <td>20</td>\n",
       "      <td>2258</td>\n",
       "      <td>78</td>\n",
       "      <td>969</td>\n",
       "      <td>\"The Gu\" red shirt XML tag t-shirt (White) XS</td>\n",
       "      <td>969</td>\n",
       "      <td>6</td>\n",
       "      <td>84</td>\n",
       "      <td>2013-12-19</td>\n",
       "      <td>20</td>\n",
       "    </tr>\n",
       "    <tr>\n",
       "      <th>99</th>\n",
       "      <td>583</td>\n",
       "      <td>4</td>\n",
       "      <td>2013-12-18</td>\n",
       "      <td>7</td>\n",
       "      <td>2014-01-07</td>\n",
       "      <td>293092</td>\n",
       "      <td>20</td>\n",
       "      <td>2259</td>\n",
       "      <td>80</td>\n",
       "      <td>394</td>\n",
       "      <td>\"The Gu\" red shirt XML tag t-shirt (White) M</td>\n",
       "      <td>394</td>\n",
       "      <td>6</td>\n",
       "      <td>84</td>\n",
       "      <td>2013-12-19</td>\n",
       "      <td>20</td>\n",
       "    </tr>\n",
       "  </tbody>\n",
       "</table>\n",
       "<p>100 rows × 16 columns</p>\n",
       "</div>"
      ],
      "text/plain": [
       "     0   1           2   3           4          5   6     7    8    9   \\\n",
       "0   558   4  2013-12-02   7  2013-12-22     293092   8  2160   77  767   \n",
       "1   558   4  2013-12-02   7  2013-12-22     293092   8  2161   78  981   \n",
       "2   558   4  2013-12-02   7  2013-12-22     293092   8  2162   80  397   \n",
       "3   558   4  2013-12-02   7  2013-12-22     293092   8  2163   86  816   \n",
       "4   558   4  2013-12-02   7  2013-12-22     293092   8  2164   95  521   \n",
       "..  ...  ..         ...  ..         ...        ...  ..   ...  ...  ...   \n",
       "95  582   7  2013-12-17   2  2014-01-06  BC0280982  15  2255  193  408   \n",
       "96  582   7  2013-12-17   2  2014-01-06  BC0280982  15  2256  204  483   \n",
       "97  583   4  2013-12-18   7  2014-01-07     293092  20  2257   77  837   \n",
       "98  583   4  2013-12-18   7  2014-01-07     293092  20  2258   78  969   \n",
       "99  583   4  2013-12-18   7  2014-01-07     293092  20  2259   80  394   \n",
       "\n",
       "                                                   10   11  12   13  \\\n",
       "0      \"The Gu\" red shirt XML tag t-shirt (White) XXS  767   6   84   \n",
       "1       \"The Gu\" red shirt XML tag t-shirt (White) XS  981   6   84   \n",
       "2        \"The Gu\" red shirt XML tag t-shirt (White) M  397   6   84   \n",
       "3      \"The Gu\" red shirt XML tag t-shirt (White) 5XL  816   6   96   \n",
       "4       \"The Gu\" red shirt XML tag t-shirt (Black) XL  521   6   90   \n",
       "..                                                ...  ...  ..  ...   \n",
       "95  Black and orange glass with care despatch tape...  408   7   38   \n",
       "96                               Tape dispenser (Red)  483   7  170   \n",
       "97     \"The Gu\" red shirt XML tag t-shirt (White) XXS  837   6   84   \n",
       "98      \"The Gu\" red shirt XML tag t-shirt (White) XS  969   6   84   \n",
       "99       \"The Gu\" red shirt XML tag t-shirt (White) M  394   6   84   \n",
       "\n",
       "            14  15  \n",
       "0   2013-12-03   8  \n",
       "1   2013-12-03   8  \n",
       "2   2013-12-03   8  \n",
       "3   2013-12-03   8  \n",
       "4   2013-12-03   8  \n",
       "..         ...  ..  \n",
       "95  2013-12-18  15  \n",
       "96  2013-12-18  15  \n",
       "97  2013-12-19  20  \n",
       "98  2013-12-19  20  \n",
       "99  2013-12-19  20  \n",
       "\n",
       "[100 rows x 16 columns]"
      ]
     },
     "execution_count": 178,
     "metadata": {},
     "output_type": "execute_result"
    }
   ],
   "source": [
    "df = pd.DataFrame(data)\n",
    "df"
   ]
  },
  {
   "cell_type": "code",
   "execution_count": 179,
   "id": "a59378ae",
   "metadata": {},
   "outputs": [
    {
     "data": {
      "text/plain": [
       "True"
      ]
     },
     "execution_count": 179,
     "metadata": {},
     "output_type": "execute_result"
    }
   ],
   "source": [
    "# close the cursor when you're done with your querying session.\n",
    "engine.close()"
   ]
  },
  {
   "cell_type": "markdown",
   "id": "4ce95ea9",
   "metadata": {},
   "source": [
    "### So, the cell above just checked if all 41 csv files has been uploaded into the staging table. Which is true, so moving on..."
   ]
  },
  {
   "cell_type": "markdown",
   "id": "c298ea0c",
   "metadata": {},
   "source": [
    "For the following part in loading the XML file, I redefined the connection function to only return the connection, not the cursor object. The cursor object will be created separately so that I can use the connection/engine for retrieve queries into pandas, the cursor for when I need to execute queries in Snowflakes"
   ]
  },
  {
   "cell_type": "code",
   "execution_count": 207,
   "id": "1afcf4ee",
   "metadata": {},
   "outputs": [],
   "source": [
    "def ConnectSnowflake (\n",
    "    sfPswd = '',\n",
    "    sfAccount = Account,\n",
    "    sfUser = UserName,\n",
    "    sfDatabase = 'MSBA_ETL',\n",
    "    sfSchema = 'PUBLIC'\n",
    "):\n",
    "    import snowflake.connector as sf\n",
    "    # Request user password if not provided already\n",
    "    if sfPswd == '' :\n",
    "      import getpass\n",
    "      sfPswd = getpass.getpass('Password:')\n",
    "    # Test the connection to Snowflake\n",
    "    try:\n",
    "      sfConnection = sf.connect(\n",
    "          user=sfUser,\n",
    "          password=sfPswd,\n",
    "          account=sfAccount\n",
    "      )\n",
    "      sfq = sfConnection.cursor()\n",
    "      # sfq.execute(\"SELECT current_version()\")\n",
    "      # sfResults = sfq.fetchall()\n",
    "      # print('Snowflake Version: ' + sfResults[0][0])\n",
    "      sfq.close()\n",
    "      sfConnection.close()\n",
    "    except:\n",
    "      print('Connection failed. Check credentials')\n",
    "    # Open connection to Snowflake\n",
    "    sfConnection = sf.connect(\n",
    "      user=sfUser,\n",
    "      password=sfPswd,\n",
    "      account=sfAccount,\n",
    "      warehouse=\"COMPUTE_WH\",\n",
    "      database=\"MSBA_ETL\",\n",
    "      schema=\"PUBLIC\"\n",
    "    )\n",
    "    #sfq = sfConnection.cursor()\n",
    "    print('Connection opened, here is your engine')\n",
    "    return sfConnection"
   ]
  },
  {
   "cell_type": "code",
   "execution_count": 208,
   "id": "0c244bae",
   "metadata": {},
   "outputs": [
    {
     "name": "stdout",
     "output_type": "stream",
     "text": [
      "Connection opened, here is your engine\n"
     ]
    }
   ],
   "source": [
    "engine = ConnectSnowflake(sfPswd=password)"
   ]
  },
  {
   "cell_type": "code",
   "execution_count": 214,
   "id": "4981ac6a",
   "metadata": {},
   "outputs": [],
   "source": [
    "# read_sql_query gives me the columns too.\n",
    "\n",
    "df = pd.read_sql_query(sql, engine)"
   ]
  },
  {
   "cell_type": "code",
   "execution_count": 216,
   "id": "6f5bfe7b",
   "metadata": {},
   "outputs": [
    {
     "data": {
      "text/plain": [
       "pandas.core.frame.DataFrame"
      ]
     },
     "execution_count": 216,
     "metadata": {},
     "output_type": "execute_result"
    }
   ],
   "source": [
    "type(df)"
   ]
  },
  {
   "cell_type": "code",
   "execution_count": 217,
   "id": "3a75c290",
   "metadata": {},
   "outputs": [],
   "source": [
    "# getting cursor\n",
    "cur = engine.cursor()"
   ]
  },
  {
   "cell_type": "code",
   "execution_count": 295,
   "id": "6b5bd157",
   "metadata": {},
   "outputs": [],
   "source": [
    "# Creating new file format for XML if needed?\n",
    "creat_xml_format = \"\"\"\n",
    "CREATE FILE FORMAT IF NOT EXISTS XML_FORMAT\n",
    "TYPE = 'XML'\n",
    "STRIP_OUTER_ELEMENT = TRUE;\n",
    "\"\"\"\n",
    "\n",
    "create_xml_table = \"\"\"\n",
    "CREATE OR REPLACE TABLE raw_transactions(xml_data VARIANT);\"\"\""
   ]
  },
  {
   "cell_type": "code",
   "execution_count": 296,
   "id": "ac18063c",
   "metadata": {},
   "outputs": [
    {
     "data": {
      "text/plain": [
       "<snowflake.connector.cursor.SnowflakeCursor at 0x7efd039c6370>"
      ]
     },
     "execution_count": 296,
     "metadata": {},
     "output_type": "execute_result"
    }
   ],
   "source": [
    "cur.execute(create_xml_table)"
   ]
  },
  {
   "cell_type": "code",
   "execution_count": 268,
   "id": "b363830b",
   "metadata": {},
   "outputs": [
    {
     "data": {
      "text/plain": [
       "<snowflake.connector.cursor.SnowflakeCursor at 0x7efd039c6370>"
      ]
     },
     "execution_count": 268,
     "metadata": {},
     "output_type": "execute_result"
    }
   ],
   "source": [
    "cur.execute(creat_xml_format)"
   ]
  },
  {
   "cell_type": "code",
   "execution_count": 255,
   "id": "dd7dc1bf",
   "metadata": {},
   "outputs": [],
   "source": [
    "def staging(file_pattern_lst, table, wh=warehouse, schema=schema, sub_folder=None):\n",
    "    cur.execute(f\"USE WAREHOUSE {wh}\")\n",
    "    cur.execute(f\"USE SCHEMA {schema}\")\n",
    "    \n",
    "    if (type(file_pattern_lst) == str) & (sub_folder==None):\n",
    "        cur.execute(f\"put file://{file_pattern_lst}* @%{table}\")\n",
    "    \n",
    "    else:\n",
    "        for f in file_pattern_lst:\n",
    "            cur.execute(f\"put file://{sub_folder}/{f}* @%{table}\")"
   ]
  },
  {
   "cell_type": "code",
   "execution_count": 297,
   "id": "41dbc23e",
   "metadata": {},
   "outputs": [],
   "source": [
    "#cur.execute(f\"put file://Supplier* @%raw_transactions\")\n",
    "staging(\"Supplier\", table='raw_transactions')\n",
    "\n",
    "#pd.read_sql_query(\"LIST @%raw_transactions\", engine) # <----- checks if it's staged"
   ]
  },
  {
   "cell_type": "code",
   "execution_count": 298,
   "id": "f3ce4511",
   "metadata": {},
   "outputs": [
    {
     "data": {
      "text/plain": [
       "<snowflake.connector.cursor.SnowflakeCursor at 0x7efd039c6370>"
      ]
     },
     "execution_count": 298,
     "metadata": {},
     "output_type": "execute_result"
    }
   ],
   "source": [
    "cur.execute(\"\"\"COPY INTO raw_transactions FROM @%raw_transactions FILE_FORMAT = (FORMAT_NAME = XML_FORMAT)\"\"\")"
   ]
  },
  {
   "cell_type": "code",
   "execution_count": 299,
   "id": "ed5a1243",
   "metadata": {},
   "outputs": [
    {
     "data": {
      "text/plain": [
       "<snowflake.connector.cursor.SnowflakeCursor at 0x7efd039c6370>"
      ]
     },
     "execution_count": 299,
     "metadata": {},
     "output_type": "execute_result"
    }
   ],
   "source": [
    "cur.execute(\"REMOVE @%raw_transactions PATTERN='.*.xml.gz'\")\n",
    "\n",
    "# pd.read_sql_query(\"LIST @%raw_transactions\", engine) # <----- checks if it's deleted"
   ]
  },
  {
   "cell_type": "code",
   "execution_count": 300,
   "id": "571f042e",
   "metadata": {},
   "outputs": [
    {
     "data": {
      "text/html": [
       "<div>\n",
       "<style scoped>\n",
       "    .dataframe tbody tr th:only-of-type {\n",
       "        vertical-align: middle;\n",
       "    }\n",
       "\n",
       "    .dataframe tbody tr th {\n",
       "        vertical-align: top;\n",
       "    }\n",
       "\n",
       "    .dataframe thead th {\n",
       "        text-align: right;\n",
       "    }\n",
       "</style>\n",
       "<table border=\"1\" class=\"dataframe\">\n",
       "  <thead>\n",
       "    <tr style=\"text-align: right;\">\n",
       "      <th></th>\n",
       "      <th>XML_DATA</th>\n",
       "    </tr>\n",
       "  </thead>\n",
       "  <tbody>\n",
       "    <tr>\n",
       "      <th>0</th>\n",
       "      <td>&lt;row&gt;\\n  &lt;SupplierTransactionID&gt;134&lt;/SupplierT...</td>\n",
       "    </tr>\n",
       "    <tr>\n",
       "      <th>1</th>\n",
       "      <td>&lt;row&gt;\\n  &lt;SupplierTransactionID&gt;169&lt;/SupplierT...</td>\n",
       "    </tr>\n",
       "    <tr>\n",
       "      <th>2</th>\n",
       "      <td>&lt;row&gt;\\n  &lt;SupplierTransactionID&gt;186&lt;/SupplierT...</td>\n",
       "    </tr>\n",
       "    <tr>\n",
       "      <th>3</th>\n",
       "      <td>&lt;row&gt;\\n  &lt;SupplierTransactionID&gt;215&lt;/SupplierT...</td>\n",
       "    </tr>\n",
       "    <tr>\n",
       "      <th>4</th>\n",
       "      <td>&lt;row&gt;\\n  &lt;SupplierTransactionID&gt;224&lt;/SupplierT...</td>\n",
       "    </tr>\n",
       "    <tr>\n",
       "      <th>...</th>\n",
       "      <td>...</td>\n",
       "    </tr>\n",
       "    <tr>\n",
       "      <th>2433</th>\n",
       "      <td>&lt;row&gt;\\n  &lt;SupplierTransactionID&gt;335510&lt;/Suppli...</td>\n",
       "    </tr>\n",
       "    <tr>\n",
       "      <th>2434</th>\n",
       "      <td>&lt;row&gt;\\n  &lt;SupplierTransactionID&gt;335511&lt;/Suppli...</td>\n",
       "    </tr>\n",
       "    <tr>\n",
       "      <th>2435</th>\n",
       "      <td>&lt;row&gt;\\n  &lt;SupplierTransactionID&gt;335512&lt;/Suppli...</td>\n",
       "    </tr>\n",
       "    <tr>\n",
       "      <th>2436</th>\n",
       "      <td>&lt;row&gt;\\n  &lt;SupplierTransactionID&gt;335843&lt;/Suppli...</td>\n",
       "    </tr>\n",
       "    <tr>\n",
       "      <th>2437</th>\n",
       "      <td>&lt;row&gt;\\n  &lt;SupplierTransactionID&gt;335847&lt;/Suppli...</td>\n",
       "    </tr>\n",
       "  </tbody>\n",
       "</table>\n",
       "<p>2438 rows × 1 columns</p>\n",
       "</div>"
      ],
      "text/plain": [
       "                                               XML_DATA\n",
       "0     <row>\\n  <SupplierTransactionID>134</SupplierT...\n",
       "1     <row>\\n  <SupplierTransactionID>169</SupplierT...\n",
       "2     <row>\\n  <SupplierTransactionID>186</SupplierT...\n",
       "3     <row>\\n  <SupplierTransactionID>215</SupplierT...\n",
       "4     <row>\\n  <SupplierTransactionID>224</SupplierT...\n",
       "...                                                 ...\n",
       "2433  <row>\\n  <SupplierTransactionID>335510</Suppli...\n",
       "2434  <row>\\n  <SupplierTransactionID>335511</Suppli...\n",
       "2435  <row>\\n  <SupplierTransactionID>335512</Suppli...\n",
       "2436  <row>\\n  <SupplierTransactionID>335843</Suppli...\n",
       "2437  <row>\\n  <SupplierTransactionID>335847</Suppli...\n",
       "\n",
       "[2438 rows x 1 columns]"
      ]
     },
     "execution_count": 300,
     "metadata": {},
     "output_type": "execute_result"
    }
   ],
   "source": [
    "sql = \"select * from raw_transactions\"\n",
    "pd.read_sql_query(sql, engine)\n",
    "\n",
    "# so... this calls for \"flattening\" or pretty much just create a view that returns a better looking table"
   ]
  },
  {
   "cell_type": "code",
   "execution_count": 302,
   "id": "3142e1d8",
   "metadata": {},
   "outputs": [],
   "source": [
    "# I tried casting to different data types, but there's \"\" values in some of the columns. I have not figured out how to turn those into null values yet...\n",
    "#...without trying to add a CASE WHEN to each... and I quite honestly don't wanna spend anymore on this issue.\n",
    "# So, just remember to cast to the right type later on\n",
    "sql = \"\"\"\n",
    "CREATE OR REPLACE VIEW supplier_trans_view AS(\n",
    "SELECT GET(XMLGET(xml_data, 'SupplierTransactionID'), '$') AS SupplierTransactionID,\n",
    "GET(XMLGET(xml_data, 'SupplierID'), '$') AS SupplierID,\n",
    "GET(XMLGET(xml_data, 'TransactionTypeID'), '$') AS TransactionTypeID,\n",
    "GET(XMLGET(xml_data, 'PurchaseOrderID'), '$') AS PurchaseOrderID,\n",
    "GET(XMLGET(xml_data, 'PaymentMethodID'), '$') AS PaymentMethodID,\n",
    "GET(XMLGET(xml_data, 'SupplierInvoiceNumber'), '$') AS SupplierInvoiceNumber,\n",
    "GET(XMLGET(xml_data, 'TransactionDate'), '$') AS TransactionDate,\n",
    "GET(XMLGET(xml_data, 'AmountExcludingTax'), '$') AS AmountExcludingTax,\n",
    "GET(XMLGET(xml_data, 'TaxAmount'), '$') AS TaxAmount,\n",
    "GET(XMLGET(xml_data, 'TransactionAmount'), '$') AS TransactionAmount,\n",
    "GET(XMLGET(xml_data, 'OutstandingBalance'), '$') AS OutstandingBalance,\n",
    "GET(XMLGET(xml_data, 'FinalizationDate'), '$') AS FinalizationDate,\n",
    "GET(XMLGET(xml_data, 'IsFinalized'), '$') AS IsFinalized,\n",
    "GET(XMLGET(xml_data, 'LastEditedBy'), '$') AS LastEditedBy\n",
    "FROM raw_transactions);\n",
    "\"\"\""
   ]
  },
  {
   "cell_type": "code",
   "execution_count": 303,
   "id": "826db85a",
   "metadata": {},
   "outputs": [
    {
     "data": {
      "text/html": [
       "<div>\n",
       "<style scoped>\n",
       "    .dataframe tbody tr th:only-of-type {\n",
       "        vertical-align: middle;\n",
       "    }\n",
       "\n",
       "    .dataframe tbody tr th {\n",
       "        vertical-align: top;\n",
       "    }\n",
       "\n",
       "    .dataframe thead th {\n",
       "        text-align: right;\n",
       "    }\n",
       "</style>\n",
       "<table border=\"1\" class=\"dataframe\">\n",
       "  <thead>\n",
       "    <tr style=\"text-align: right;\">\n",
       "      <th></th>\n",
       "      <th>status</th>\n",
       "    </tr>\n",
       "  </thead>\n",
       "  <tbody>\n",
       "    <tr>\n",
       "      <th>0</th>\n",
       "      <td>View SUPPLIER_TRANSACTIONS_VIEW successfully c...</td>\n",
       "    </tr>\n",
       "  </tbody>\n",
       "</table>\n",
       "</div>"
      ],
      "text/plain": [
       "                                              status\n",
       "0  View SUPPLIER_TRANSACTIONS_VIEW successfully c..."
      ]
     },
     "execution_count": 303,
     "metadata": {},
     "output_type": "execute_result"
    }
   ],
   "source": [
    "pd.read_sql_query(sql, engine)"
   ]
  },
  {
   "cell_type": "code",
   "execution_count": 306,
   "id": "85e4446c",
   "metadata": {},
   "outputs": [],
   "source": [
    "sql = \"\"\"select * from supplier_trans_view limit 200\"\"\""
   ]
  },
  {
   "cell_type": "code",
   "execution_count": 307,
   "id": "cb5ceeb1",
   "metadata": {},
   "outputs": [
    {
     "data": {
      "text/html": [
       "<div>\n",
       "<style scoped>\n",
       "    .dataframe tbody tr th:only-of-type {\n",
       "        vertical-align: middle;\n",
       "    }\n",
       "\n",
       "    .dataframe tbody tr th {\n",
       "        vertical-align: top;\n",
       "    }\n",
       "\n",
       "    .dataframe thead th {\n",
       "        text-align: right;\n",
       "    }\n",
       "</style>\n",
       "<table border=\"1\" class=\"dataframe\">\n",
       "  <thead>\n",
       "    <tr style=\"text-align: right;\">\n",
       "      <th></th>\n",
       "      <th>SUPPLIERTRANSACTIONID</th>\n",
       "      <th>SUPPLIERID</th>\n",
       "      <th>TRANSACTIONTYPEID</th>\n",
       "      <th>PURCHASEORDERID</th>\n",
       "      <th>PAYMENTMETHODID</th>\n",
       "      <th>SUPPLIERINVOICENUMBER</th>\n",
       "      <th>TRANSACTIONDATE</th>\n",
       "      <th>AMOUNTEXCLUDINGTAX</th>\n",
       "      <th>TAXAMOUNT</th>\n",
       "      <th>TRANSACTIONAMOUNT</th>\n",
       "      <th>OUTSTANDINGBALANCE</th>\n",
       "      <th>FINALIZATIONDATE</th>\n",
       "      <th>ISFINALIZED</th>\n",
       "      <th>LASTEDITEDBY</th>\n",
       "    </tr>\n",
       "  </thead>\n",
       "  <tbody>\n",
       "    <tr>\n",
       "      <th>0</th>\n",
       "      <td>134</td>\n",
       "      <td>2</td>\n",
       "      <td>5</td>\n",
       "      <td>1</td>\n",
       "      <td>4</td>\n",
       "      <td>7290</td>\n",
       "      <td>\"2013-01-02\"</td>\n",
       "      <td>313.5</td>\n",
       "      <td>47.03</td>\n",
       "      <td>360.53</td>\n",
       "      <td>0</td>\n",
       "      <td>\"2013-01-07\"</td>\n",
       "      <td>1</td>\n",
       "      <td>4</td>\n",
       "    </tr>\n",
       "    <tr>\n",
       "      <th>1</th>\n",
       "      <td>169</td>\n",
       "      <td>4</td>\n",
       "      <td>5</td>\n",
       "      <td>2</td>\n",
       "      <td>4</td>\n",
       "      <td>3898</td>\n",
       "      <td>\"2013-01-02\"</td>\n",
       "      <td>21732</td>\n",
       "      <td>3259.8</td>\n",
       "      <td>24991.8</td>\n",
       "      <td>0</td>\n",
       "      <td>\"2013-01-07\"</td>\n",
       "      <td>1</td>\n",
       "      <td>4</td>\n",
       "    </tr>\n",
       "    <tr>\n",
       "      <th>2</th>\n",
       "      <td>186</td>\n",
       "      <td>5</td>\n",
       "      <td>5</td>\n",
       "      <td>3</td>\n",
       "      <td>4</td>\n",
       "      <td>616</td>\n",
       "      <td>\"2013-01-02\"</td>\n",
       "      <td>2740.5</td>\n",
       "      <td>411.11</td>\n",
       "      <td>3151.61</td>\n",
       "      <td>0</td>\n",
       "      <td>\"2013-01-07\"</td>\n",
       "      <td>1</td>\n",
       "      <td>4</td>\n",
       "    </tr>\n",
       "    <tr>\n",
       "      <th>3</th>\n",
       "      <td>215</td>\n",
       "      <td>7</td>\n",
       "      <td>5</td>\n",
       "      <td>4</td>\n",
       "      <td>4</td>\n",
       "      <td>3869</td>\n",
       "      <td>\"2013-01-02\"</td>\n",
       "      <td>42481.2</td>\n",
       "      <td>6372.19</td>\n",
       "      <td>48853.39</td>\n",
       "      <td>0</td>\n",
       "      <td>\"2013-01-07\"</td>\n",
       "      <td>1</td>\n",
       "      <td>4</td>\n",
       "    </tr>\n",
       "    <tr>\n",
       "      <th>4</th>\n",
       "      <td>224</td>\n",
       "      <td>10</td>\n",
       "      <td>5</td>\n",
       "      <td>5</td>\n",
       "      <td>4</td>\n",
       "      <td>4697</td>\n",
       "      <td>\"2013-01-02\"</td>\n",
       "      <td>35067.5</td>\n",
       "      <td>5260.14</td>\n",
       "      <td>40327.64</td>\n",
       "      <td>0</td>\n",
       "      <td>\"2013-01-07\"</td>\n",
       "      <td>1</td>\n",
       "      <td>4</td>\n",
       "    </tr>\n",
       "    <tr>\n",
       "      <th>...</th>\n",
       "      <td>...</td>\n",
       "      <td>...</td>\n",
       "      <td>...</td>\n",
       "      <td>...</td>\n",
       "      <td>...</td>\n",
       "      <td>...</td>\n",
       "      <td>...</td>\n",
       "      <td>...</td>\n",
       "      <td>...</td>\n",
       "      <td>...</td>\n",
       "      <td>...</td>\n",
       "      <td>...</td>\n",
       "      <td>...</td>\n",
       "      <td>...</td>\n",
       "    </tr>\n",
       "    <tr>\n",
       "      <th>195</th>\n",
       "      <td>22934</td>\n",
       "      <td>7</td>\n",
       "      <td>5</td>\n",
       "      <td>162</td>\n",
       "      <td>4</td>\n",
       "      <td>1691</td>\n",
       "      <td>\"2013-04-08\"</td>\n",
       "      <td>12109.2</td>\n",
       "      <td>1816.38</td>\n",
       "      <td>13925.58</td>\n",
       "      <td>0</td>\n",
       "      <td>\"2013-04-08\"</td>\n",
       "      <td>1</td>\n",
       "      <td>2</td>\n",
       "    </tr>\n",
       "    <tr>\n",
       "      <th>196</th>\n",
       "      <td>22937</td>\n",
       "      <td>4</td>\n",
       "      <td>5</td>\n",
       "      <td>163</td>\n",
       "      <td>4</td>\n",
       "      <td>743</td>\n",
       "      <td>\"2013-04-08\"</td>\n",
       "      <td>912</td>\n",
       "      <td>136.8</td>\n",
       "      <td>1048.8</td>\n",
       "      <td>0</td>\n",
       "      <td>\"2013-04-08\"</td>\n",
       "      <td>1</td>\n",
       "      <td>2</td>\n",
       "    </tr>\n",
       "    <tr>\n",
       "      <th>197</th>\n",
       "      <td>22939</td>\n",
       "      <td>7</td>\n",
       "      <td>5</td>\n",
       "      <td>164</td>\n",
       "      <td>4</td>\n",
       "      <td>4720</td>\n",
       "      <td>\"2013-04-08\"</td>\n",
       "      <td>1020</td>\n",
       "      <td>153</td>\n",
       "      <td>1173</td>\n",
       "      <td>0</td>\n",
       "      <td>\"2013-04-08\"</td>\n",
       "      <td>1</td>\n",
       "      <td>2</td>\n",
       "    </tr>\n",
       "    <tr>\n",
       "      <th>198</th>\n",
       "      <td>22940</td>\n",
       "      <td>4</td>\n",
       "      <td>7</td>\n",
       "      <td>\"\"</td>\n",
       "      <td>4</td>\n",
       "      <td>\"\"</td>\n",
       "      <td>\"2013-04-08\"</td>\n",
       "      <td>0</td>\n",
       "      <td>0</td>\n",
       "      <td>-433499.4</td>\n",
       "      <td>0</td>\n",
       "      <td>\"2013-04-08\"</td>\n",
       "      <td>1</td>\n",
       "      <td>2</td>\n",
       "    </tr>\n",
       "    <tr>\n",
       "      <th>199</th>\n",
       "      <td>22941</td>\n",
       "      <td>7</td>\n",
       "      <td>7</td>\n",
       "      <td>\"\"</td>\n",
       "      <td>4</td>\n",
       "      <td>\"\"</td>\n",
       "      <td>\"2013-04-08\"</td>\n",
       "      <td>0</td>\n",
       "      <td>0</td>\n",
       "      <td>-63232.98</td>\n",
       "      <td>0</td>\n",
       "      <td>\"2013-04-08\"</td>\n",
       "      <td>1</td>\n",
       "      <td>2</td>\n",
       "    </tr>\n",
       "  </tbody>\n",
       "</table>\n",
       "<p>200 rows × 14 columns</p>\n",
       "</div>"
      ],
      "text/plain": [
       "    SUPPLIERTRANSACTIONID SUPPLIERID TRANSACTIONTYPEID PURCHASEORDERID  \\\n",
       "0                     134          2                 5               1   \n",
       "1                     169          4                 5               2   \n",
       "2                     186          5                 5               3   \n",
       "3                     215          7                 5               4   \n",
       "4                     224         10                 5               5   \n",
       "..                    ...        ...               ...             ...   \n",
       "195                 22934          7                 5             162   \n",
       "196                 22937          4                 5             163   \n",
       "197                 22939          7                 5             164   \n",
       "198                 22940          4                 7              \"\"   \n",
       "199                 22941          7                 7              \"\"   \n",
       "\n",
       "    PAYMENTMETHODID SUPPLIERINVOICENUMBER TRANSACTIONDATE AMOUNTEXCLUDINGTAX  \\\n",
       "0                 4                  7290    \"2013-01-02\"              313.5   \n",
       "1                 4                  3898    \"2013-01-02\"              21732   \n",
       "2                 4                   616    \"2013-01-02\"             2740.5   \n",
       "3                 4                  3869    \"2013-01-02\"            42481.2   \n",
       "4                 4                  4697    \"2013-01-02\"            35067.5   \n",
       "..              ...                   ...             ...                ...   \n",
       "195               4                  1691    \"2013-04-08\"            12109.2   \n",
       "196               4                   743    \"2013-04-08\"                912   \n",
       "197               4                  4720    \"2013-04-08\"               1020   \n",
       "198               4                    \"\"    \"2013-04-08\"                  0   \n",
       "199               4                    \"\"    \"2013-04-08\"                  0   \n",
       "\n",
       "    TAXAMOUNT TRANSACTIONAMOUNT OUTSTANDINGBALANCE FINALIZATIONDATE  \\\n",
       "0       47.03            360.53                  0     \"2013-01-07\"   \n",
       "1      3259.8           24991.8                  0     \"2013-01-07\"   \n",
       "2      411.11           3151.61                  0     \"2013-01-07\"   \n",
       "3     6372.19          48853.39                  0     \"2013-01-07\"   \n",
       "4     5260.14          40327.64                  0     \"2013-01-07\"   \n",
       "..        ...               ...                ...              ...   \n",
       "195   1816.38          13925.58                  0     \"2013-04-08\"   \n",
       "196     136.8            1048.8                  0     \"2013-04-08\"   \n",
       "197       153              1173                  0     \"2013-04-08\"   \n",
       "198         0         -433499.4                  0     \"2013-04-08\"   \n",
       "199         0         -63232.98                  0     \"2013-04-08\"   \n",
       "\n",
       "    ISFINALIZED LASTEDITEDBY  \n",
       "0             1            4  \n",
       "1             1            4  \n",
       "2             1            4  \n",
       "3             1            4  \n",
       "4             1            4  \n",
       "..          ...          ...  \n",
       "195           1            2  \n",
       "196           1            2  \n",
       "197           1            2  \n",
       "198           1            2  \n",
       "199           1            2  \n",
       "\n",
       "[200 rows x 14 columns]"
      ]
     },
     "execution_count": 307,
     "metadata": {},
     "output_type": "execute_result"
    }
   ],
   "source": [
    "pd.read_sql_query(sql, engine)"
   ]
  },
  {
   "cell_type": "code",
   "execution_count": 308,
   "id": "5b4b222e",
   "metadata": {},
   "outputs": [],
   "source": [
    "engine.close()"
   ]
  },
  {
   "cell_type": "markdown",
   "id": "30f2269b",
   "metadata": {},
   "source": [
    "## That one supplier_case file in postgres... there's a reason I enjoyed this part"
   ]
  },
  {
   "cell_type": "code",
   "execution_count": 312,
   "id": "b509342a",
   "metadata": {},
   "outputs": [],
   "source": [
    "import psycopg2\n",
    "\n",
    "import pandas as pd\n",
    "\n",
    "conn = psycopg2.connect( host=\"127.0.0.1\", port=\"8765\",database=\"WestCoastImporters\", user=\"jovyan\", password=\"postgres\")"
   ]
  },
  {
   "cell_type": "code",
   "execution_count": 314,
   "id": "6017632f",
   "metadata": {},
   "outputs": [
    {
     "data": {
      "text/html": [
       "<div>\n",
       "<style scoped>\n",
       "    .dataframe tbody tr th:only-of-type {\n",
       "        vertical-align: middle;\n",
       "    }\n",
       "\n",
       "    .dataframe tbody tr th {\n",
       "        vertical-align: top;\n",
       "    }\n",
       "\n",
       "    .dataframe thead th {\n",
       "        text-align: right;\n",
       "    }\n",
       "</style>\n",
       "<table border=\"1\" class=\"dataframe\">\n",
       "  <thead>\n",
       "    <tr style=\"text-align: right;\">\n",
       "      <th></th>\n",
       "      <th>supplierid</th>\n",
       "      <th>suppliername</th>\n",
       "      <th>suppliercategoryid</th>\n",
       "      <th>primarycontactpersonid</th>\n",
       "      <th>alternatecontactpersonid</th>\n",
       "      <th>deliverymethodid</th>\n",
       "      <th>postalcityid</th>\n",
       "      <th>supplierreference</th>\n",
       "      <th>bankaccountname</th>\n",
       "      <th>bankaccountbranch</th>\n",
       "      <th>...</th>\n",
       "      <th>deliveryaddressline1</th>\n",
       "      <th>deliveryaddressline2</th>\n",
       "      <th>deliverypostalcode</th>\n",
       "      <th>deliverylocation</th>\n",
       "      <th>postaladdressline1</th>\n",
       "      <th>postaladdressline2</th>\n",
       "      <th>postalpostalcode</th>\n",
       "      <th>lasteditedby</th>\n",
       "      <th>validfrom</th>\n",
       "      <th>validto</th>\n",
       "    </tr>\n",
       "  </thead>\n",
       "  <tbody>\n",
       "    <tr>\n",
       "      <th>0</th>\n",
       "      <td>1</td>\n",
       "      <td>A Datum Corporation</td>\n",
       "      <td>2</td>\n",
       "      <td>21</td>\n",
       "      <td>22</td>\n",
       "      <td>7.0</td>\n",
       "      <td>22202</td>\n",
       "      <td>AA20384</td>\n",
       "      <td>A Datum Corporation</td>\n",
       "      <td>Woodgrove Bank Zionsville</td>\n",
       "      <td>...</td>\n",
       "      <td>Suite 10</td>\n",
       "      <td>183838 Southwest Boulevard</td>\n",
       "      <td>22202</td>\n",
       "      <td>0xE6100000010CDE115F37B6F9434031276893C39055C0</td>\n",
       "      <td>PO Box 1039</td>\n",
       "      <td>Arlington</td>\n",
       "      <td>22202</td>\n",
       "      <td>1</td>\n",
       "      <td>05:00.0</td>\n",
       "      <td>##################</td>\n",
       "    </tr>\n",
       "    <tr>\n",
       "      <th>1</th>\n",
       "      <td>2</td>\n",
       "      <td>Contoso, Ltd.</td>\n",
       "      <td>2</td>\n",
       "      <td>23</td>\n",
       "      <td>24</td>\n",
       "      <td>9.0</td>\n",
       "      <td>80125</td>\n",
       "      <td>B2084020</td>\n",
       "      <td>Contoso Ltd</td>\n",
       "      <td>Woodgrove Bank Greenbank</td>\n",
       "      <td>...</td>\n",
       "      <td>Unit 2</td>\n",
       "      <td>2934 Night Road</td>\n",
       "      <td>80125</td>\n",
       "      <td>0xE6100000010CDA4B6430900C4840C04EFBF7AAA45EC0</td>\n",
       "      <td>PO Box 1012</td>\n",
       "      <td>Highlands Ranch</td>\n",
       "      <td>80125</td>\n",
       "      <td>1</td>\n",
       "      <td>05:00.0</td>\n",
       "      <td>##################</td>\n",
       "    </tr>\n",
       "    <tr>\n",
       "      <th>2</th>\n",
       "      <td>3</td>\n",
       "      <td>Consolidated Messenger</td>\n",
       "      <td>6</td>\n",
       "      <td>25</td>\n",
       "      <td>26</td>\n",
       "      <td>NaN</td>\n",
       "      <td>60523</td>\n",
       "      <td>209340283</td>\n",
       "      <td>Consolidated Messenger</td>\n",
       "      <td>Woodgrove Bank San Francisco</td>\n",
       "      <td>...</td>\n",
       "      <td>None</td>\n",
       "      <td>894 Market Day Street</td>\n",
       "      <td>60523</td>\n",
       "      <td>0xE6100000010C529ACDE330E34240DFFB1BB4D79A5EC0</td>\n",
       "      <td>PO Box 1014</td>\n",
       "      <td>Westmont</td>\n",
       "      <td>60523</td>\n",
       "      <td>1</td>\n",
       "      <td>05:00.0</td>\n",
       "      <td>##################</td>\n",
       "    </tr>\n",
       "    <tr>\n",
       "      <th>3</th>\n",
       "      <td>4</td>\n",
       "      <td>Fabrikam, Inc.</td>\n",
       "      <td>4</td>\n",
       "      <td>27</td>\n",
       "      <td>28</td>\n",
       "      <td>7.0</td>\n",
       "      <td>95642</td>\n",
       "      <td>293092</td>\n",
       "      <td>Fabrikam Inc</td>\n",
       "      <td>Woodgrove Bank Lakeview Heights</td>\n",
       "      <td>...</td>\n",
       "      <td>Level 2</td>\n",
       "      <td>393999 Woodberg Road</td>\n",
       "      <td>95642</td>\n",
       "      <td>0xE6100000010C86E7A5626313434023C9625147E054C0</td>\n",
       "      <td>PO Box 301</td>\n",
       "      <td>Jackson</td>\n",
       "      <td>95642</td>\n",
       "      <td>1</td>\n",
       "      <td>05:00.0</td>\n",
       "      <td>##################</td>\n",
       "    </tr>\n",
       "    <tr>\n",
       "      <th>4</th>\n",
       "      <td>5</td>\n",
       "      <td>Graphic Design Institute</td>\n",
       "      <td>2</td>\n",
       "      <td>29</td>\n",
       "      <td>30</td>\n",
       "      <td>10.0</td>\n",
       "      <td>80125</td>\n",
       "      <td>8803922</td>\n",
       "      <td>Graphic Design Institute</td>\n",
       "      <td>Woodgrove Bank Lanagan</td>\n",
       "      <td>...</td>\n",
       "      <td>None</td>\n",
       "      <td>45th Street</td>\n",
       "      <td>80125</td>\n",
       "      <td>0xE6100000010C15E46723D74D424081F8AF62A79C57C0</td>\n",
       "      <td>PO Box 393</td>\n",
       "      <td>Highlands Ranch</td>\n",
       "      <td>80125</td>\n",
       "      <td>1</td>\n",
       "      <td>05:00.0</td>\n",
       "      <td>##################</td>\n",
       "    </tr>\n",
       "    <tr>\n",
       "      <th>5</th>\n",
       "      <td>6</td>\n",
       "      <td>Humongous Insurance</td>\n",
       "      <td>9</td>\n",
       "      <td>31</td>\n",
       "      <td>32</td>\n",
       "      <td>NaN</td>\n",
       "      <td>42437</td>\n",
       "      <td>82420938</td>\n",
       "      <td>Humongous Insurance</td>\n",
       "      <td>Woodgrove Bank Lancing</td>\n",
       "      <td>...</td>\n",
       "      <td>None</td>\n",
       "      <td>9893 Mount Norris Road</td>\n",
       "      <td>42437</td>\n",
       "      <td>0xE6100000010CCCF2D0D2700F424085C7235DD82955C0</td>\n",
       "      <td>PO Box 94829</td>\n",
       "      <td>Boxville</td>\n",
       "      <td>42437</td>\n",
       "      <td>1</td>\n",
       "      <td>05:00.0</td>\n",
       "      <td>##################</td>\n",
       "    </tr>\n",
       "    <tr>\n",
       "      <th>6</th>\n",
       "      <td>7</td>\n",
       "      <td>Litware, Inc.</td>\n",
       "      <td>5</td>\n",
       "      <td>33</td>\n",
       "      <td>34</td>\n",
       "      <td>2.0</td>\n",
       "      <td>95642</td>\n",
       "      <td>BC0280982</td>\n",
       "      <td>Litware Inc</td>\n",
       "      <td>Woodgrove Bank Mokelumne Hill</td>\n",
       "      <td>...</td>\n",
       "      <td>Level 3</td>\n",
       "      <td>19 Le Church Street</td>\n",
       "      <td>95642</td>\n",
       "      <td>0xE6100000010C297398D475264340B63CC560342D5EC0</td>\n",
       "      <td>PO Box 20290</td>\n",
       "      <td>Jackson</td>\n",
       "      <td>95642</td>\n",
       "      <td>1</td>\n",
       "      <td>05:00.0</td>\n",
       "      <td>##################</td>\n",
       "    </tr>\n",
       "    <tr>\n",
       "      <th>7</th>\n",
       "      <td>8</td>\n",
       "      <td>Lucerne Publishing</td>\n",
       "      <td>2</td>\n",
       "      <td>35</td>\n",
       "      <td>36</td>\n",
       "      <td>10.0</td>\n",
       "      <td>60523</td>\n",
       "      <td>JQ082304802</td>\n",
       "      <td>Lucerne Publishing</td>\n",
       "      <td>Woodgrove Bank Jonesborough</td>\n",
       "      <td>...</td>\n",
       "      <td>Suite 34</td>\n",
       "      <td>949482 Miller Boulevard</td>\n",
       "      <td>60523</td>\n",
       "      <td>0xE6100000010C9D8F21B6AA25424091F69A794D9E54C0</td>\n",
       "      <td>PO Box 8747</td>\n",
       "      <td>Westmont</td>\n",
       "      <td>60523</td>\n",
       "      <td>1</td>\n",
       "      <td>05:00.0</td>\n",
       "      <td>##################</td>\n",
       "    </tr>\n",
       "    <tr>\n",
       "      <th>8</th>\n",
       "      <td>9</td>\n",
       "      <td>Nod Publishers</td>\n",
       "      <td>2</td>\n",
       "      <td>37</td>\n",
       "      <td>38</td>\n",
       "      <td>10.0</td>\n",
       "      <td>29625</td>\n",
       "      <td>GL08029802</td>\n",
       "      <td>Nod Publishers</td>\n",
       "      <td>Woodgrove Bank Elizabeth City</td>\n",
       "      <td>...</td>\n",
       "      <td>Level 1</td>\n",
       "      <td>389 King Street</td>\n",
       "      <td>29625</td>\n",
       "      <td>0xE6100000010C0EB0A07AB52542407452A923111053C0</td>\n",
       "      <td>PO Box 3390</td>\n",
       "      <td>Anderson</td>\n",
       "      <td>29625</td>\n",
       "      <td>1</td>\n",
       "      <td>05:00.0</td>\n",
       "      <td>##################</td>\n",
       "    </tr>\n",
       "    <tr>\n",
       "      <th>9</th>\n",
       "      <td>10</td>\n",
       "      <td>Northwind Electric Cars</td>\n",
       "      <td>3</td>\n",
       "      <td>39</td>\n",
       "      <td>40</td>\n",
       "      <td>8.0</td>\n",
       "      <td>22202</td>\n",
       "      <td>ML0300202</td>\n",
       "      <td>Northwind Electric Cars</td>\n",
       "      <td>Woodgrove Bank Crandon Lakes</td>\n",
       "      <td>...</td>\n",
       "      <td>None</td>\n",
       "      <td>440 New Road</td>\n",
       "      <td>22202</td>\n",
       "      <td>0xE6100000010C6C4E14D7E78F4440C74ED3C2C0B552C0</td>\n",
       "      <td>PO Box 30920</td>\n",
       "      <td>Arlington</td>\n",
       "      <td>22202</td>\n",
       "      <td>1</td>\n",
       "      <td>05:00.0</td>\n",
       "      <td>##################</td>\n",
       "    </tr>\n",
       "    <tr>\n",
       "      <th>10</th>\n",
       "      <td>11</td>\n",
       "      <td>Trey Research</td>\n",
       "      <td>8</td>\n",
       "      <td>41</td>\n",
       "      <td>42</td>\n",
       "      <td>NaN</td>\n",
       "      <td>34269</td>\n",
       "      <td>82304822</td>\n",
       "      <td>Trey Research</td>\n",
       "      <td>Woodgrove Bank Kadoka</td>\n",
       "      <td>...</td>\n",
       "      <td>Level 43</td>\n",
       "      <td>9401 Polar Avenue</td>\n",
       "      <td>34269</td>\n",
       "      <td>0xE6100000010C8E5C37A5BCEA454054162AA4A16059C0</td>\n",
       "      <td>PO  Box 595</td>\n",
       "      <td>North Port</td>\n",
       "      <td>34269</td>\n",
       "      <td>1</td>\n",
       "      <td>05:00.0</td>\n",
       "      <td>##################</td>\n",
       "    </tr>\n",
       "    <tr>\n",
       "      <th>11</th>\n",
       "      <td>12</td>\n",
       "      <td>The Phone Company</td>\n",
       "      <td>2</td>\n",
       "      <td>43</td>\n",
       "      <td>44</td>\n",
       "      <td>7.0</td>\n",
       "      <td>91942</td>\n",
       "      <td>237408032</td>\n",
       "      <td>The Phone Company</td>\n",
       "      <td>Woodgrove Bank Karlstad</td>\n",
       "      <td>...</td>\n",
       "      <td>Level 83</td>\n",
       "      <td>339 Toorak Road</td>\n",
       "      <td>80125</td>\n",
       "      <td>0xE6100000010C1D1B26BFEA494840BF993D75512158C0</td>\n",
       "      <td>PO Box 3837</td>\n",
       "      <td>Highlands Ranch</td>\n",
       "      <td>80125</td>\n",
       "      <td>1</td>\n",
       "      <td>05:00.0</td>\n",
       "      <td>##################</td>\n",
       "    </tr>\n",
       "    <tr>\n",
       "      <th>12</th>\n",
       "      <td>13</td>\n",
       "      <td>Woodgrove Bank</td>\n",
       "      <td>7</td>\n",
       "      <td>45</td>\n",
       "      <td>46</td>\n",
       "      <td>NaN</td>\n",
       "      <td>6331</td>\n",
       "      <td>28034202</td>\n",
       "      <td>Woodgrove Bank</td>\n",
       "      <td>Woodgrove Bank San Francisco</td>\n",
       "      <td>...</td>\n",
       "      <td>Level 3</td>\n",
       "      <td>8488 Vienna Boulevard</td>\n",
       "      <td>6331</td>\n",
       "      <td>0xE6100000010C529ACDE330E34240DFFB1BB4D79A5EC0</td>\n",
       "      <td>PO Box 2390</td>\n",
       "      <td>Canterbury</td>\n",
       "      <td>6331</td>\n",
       "      <td>1</td>\n",
       "      <td>05:00.0</td>\n",
       "      <td>##################</td>\n",
       "    </tr>\n",
       "  </tbody>\n",
       "</table>\n",
       "<p>13 rows × 28 columns</p>\n",
       "</div>"
      ],
      "text/plain": [
       "    supplierid              suppliername  suppliercategoryid  \\\n",
       "0            1       A Datum Corporation                   2   \n",
       "1            2             Contoso, Ltd.                   2   \n",
       "2            3    Consolidated Messenger                   6   \n",
       "3            4            Fabrikam, Inc.                   4   \n",
       "4            5  Graphic Design Institute                   2   \n",
       "5            6       Humongous Insurance                   9   \n",
       "6            7             Litware, Inc.                   5   \n",
       "7            8        Lucerne Publishing                   2   \n",
       "8            9            Nod Publishers                   2   \n",
       "9           10   Northwind Electric Cars                   3   \n",
       "10          11             Trey Research                   8   \n",
       "11          12         The Phone Company                   2   \n",
       "12          13            Woodgrove Bank                   7   \n",
       "\n",
       "    primarycontactpersonid  alternatecontactpersonid  deliverymethodid  \\\n",
       "0                       21                        22               7.0   \n",
       "1                       23                        24               9.0   \n",
       "2                       25                        26               NaN   \n",
       "3                       27                        28               7.0   \n",
       "4                       29                        30              10.0   \n",
       "5                       31                        32               NaN   \n",
       "6                       33                        34               2.0   \n",
       "7                       35                        36              10.0   \n",
       "8                       37                        38              10.0   \n",
       "9                       39                        40               8.0   \n",
       "10                      41                        42               NaN   \n",
       "11                      43                        44               7.0   \n",
       "12                      45                        46               NaN   \n",
       "\n",
       "    postalcityid supplierreference           bankaccountname  \\\n",
       "0          22202           AA20384       A Datum Corporation   \n",
       "1          80125          B2084020               Contoso Ltd   \n",
       "2          60523         209340283    Consolidated Messenger   \n",
       "3          95642            293092              Fabrikam Inc   \n",
       "4          80125           8803922  Graphic Design Institute   \n",
       "5          42437          82420938       Humongous Insurance   \n",
       "6          95642         BC0280982               Litware Inc   \n",
       "7          60523       JQ082304802        Lucerne Publishing   \n",
       "8          29625        GL08029802            Nod Publishers   \n",
       "9          22202         ML0300202   Northwind Electric Cars   \n",
       "10         34269          82304822             Trey Research   \n",
       "11         91942         237408032         The Phone Company   \n",
       "12          6331          28034202            Woodgrove Bank   \n",
       "\n",
       "                  bankaccountbranch  ...  deliveryaddressline1  \\\n",
       "0         Woodgrove Bank Zionsville  ...              Suite 10   \n",
       "1          Woodgrove Bank Greenbank  ...                Unit 2   \n",
       "2      Woodgrove Bank San Francisco  ...                  None   \n",
       "3   Woodgrove Bank Lakeview Heights  ...               Level 2   \n",
       "4            Woodgrove Bank Lanagan  ...                  None   \n",
       "5            Woodgrove Bank Lancing  ...                  None   \n",
       "6     Woodgrove Bank Mokelumne Hill  ...               Level 3   \n",
       "7       Woodgrove Bank Jonesborough  ...              Suite 34   \n",
       "8     Woodgrove Bank Elizabeth City  ...               Level 1   \n",
       "9      Woodgrove Bank Crandon Lakes  ...                  None   \n",
       "10            Woodgrove Bank Kadoka  ...              Level 43   \n",
       "11          Woodgrove Bank Karlstad  ...              Level 83   \n",
       "12     Woodgrove Bank San Francisco  ...               Level 3   \n",
       "\n",
       "          deliveryaddressline2  deliverypostalcode  \\\n",
       "0   183838 Southwest Boulevard               22202   \n",
       "1              2934 Night Road               80125   \n",
       "2        894 Market Day Street               60523   \n",
       "3         393999 Woodberg Road               95642   \n",
       "4                  45th Street               80125   \n",
       "5       9893 Mount Norris Road               42437   \n",
       "6          19 Le Church Street               95642   \n",
       "7      949482 Miller Boulevard               60523   \n",
       "8              389 King Street               29625   \n",
       "9                 440 New Road               22202   \n",
       "10           9401 Polar Avenue               34269   \n",
       "11             339 Toorak Road               80125   \n",
       "12       8488 Vienna Boulevard                6331   \n",
       "\n",
       "                                  deliverylocation postaladdressline1  \\\n",
       "0   0xE6100000010CDE115F37B6F9434031276893C39055C0        PO Box 1039   \n",
       "1   0xE6100000010CDA4B6430900C4840C04EFBF7AAA45EC0        PO Box 1012   \n",
       "2   0xE6100000010C529ACDE330E34240DFFB1BB4D79A5EC0        PO Box 1014   \n",
       "3   0xE6100000010C86E7A5626313434023C9625147E054C0         PO Box 301   \n",
       "4   0xE6100000010C15E46723D74D424081F8AF62A79C57C0         PO Box 393   \n",
       "5   0xE6100000010CCCF2D0D2700F424085C7235DD82955C0       PO Box 94829   \n",
       "6   0xE6100000010C297398D475264340B63CC560342D5EC0       PO Box 20290   \n",
       "7   0xE6100000010C9D8F21B6AA25424091F69A794D9E54C0        PO Box 8747   \n",
       "8   0xE6100000010C0EB0A07AB52542407452A923111053C0        PO Box 3390   \n",
       "9   0xE6100000010C6C4E14D7E78F4440C74ED3C2C0B552C0       PO Box 30920   \n",
       "10  0xE6100000010C8E5C37A5BCEA454054162AA4A16059C0        PO  Box 595   \n",
       "11  0xE6100000010C1D1B26BFEA494840BF993D75512158C0        PO Box 3837   \n",
       "12  0xE6100000010C529ACDE330E34240DFFB1BB4D79A5EC0        PO Box 2390   \n",
       "\n",
       "   postaladdressline2 postalpostalcode lasteditedby validfrom  \\\n",
       "0           Arlington            22202            1   05:00.0   \n",
       "1     Highlands Ranch            80125            1   05:00.0   \n",
       "2            Westmont            60523            1   05:00.0   \n",
       "3             Jackson            95642            1   05:00.0   \n",
       "4     Highlands Ranch            80125            1   05:00.0   \n",
       "5            Boxville            42437            1   05:00.0   \n",
       "6             Jackson            95642            1   05:00.0   \n",
       "7            Westmont            60523            1   05:00.0   \n",
       "8            Anderson            29625            1   05:00.0   \n",
       "9           Arlington            22202            1   05:00.0   \n",
       "10         North Port            34269            1   05:00.0   \n",
       "11    Highlands Ranch            80125            1   05:00.0   \n",
       "12         Canterbury             6331            1   05:00.0   \n",
       "\n",
       "               validto  \n",
       "0   ##################  \n",
       "1   ##################  \n",
       "2   ##################  \n",
       "3   ##################  \n",
       "4   ##################  \n",
       "5   ##################  \n",
       "6   ##################  \n",
       "7   ##################  \n",
       "8   ##################  \n",
       "9   ##################  \n",
       "10  ##################  \n",
       "11  ##################  \n",
       "12  ##################  \n",
       "\n",
       "[13 rows x 28 columns]"
      ]
     },
     "execution_count": 314,
     "metadata": {},
     "output_type": "execute_result"
    }
   ],
   "source": [
    "# Under the assumption that you have already created the table in postgresql\n",
    "sql = (\"\"\"SELECT * FROM supplier_case\"\"\")\n",
    "\n",
    "df = pd.read_sql_query(sql, conn)\n",
    "\n",
    "pd.DataFrame(df)"
   ]
  },
  {
   "cell_type": "code",
   "execution_count": 315,
   "id": "39472f29",
   "metadata": {},
   "outputs": [],
   "source": [
    "conn.close()"
   ]
  },
  {
   "cell_type": "markdown",
   "id": "cb1b77b5",
   "metadata": {},
   "source": [
    "# EVERYTHING BELOW: Code Snippets"
   ]
  },
  {
   "cell_type": "markdown",
   "id": "6825dd5d",
   "metadata": {},
   "source": [
    "## Below are tests (WARNING: Some cells below will not run)"
   ]
  },
  {
   "cell_type": "code",
   "execution_count": 17,
   "id": "6bc7c97a",
   "metadata": {},
   "outputs": [
    {
     "data": {
      "text/plain": [
       "<snowflake.connector.cursor.SnowflakeCursor at 0x7efd57f1c7f0>"
      ]
     },
     "execution_count": 17,
     "metadata": {},
     "output_type": "execute_result"
    }
   ],
   "source": [
    "# Creates default file format for CSV files if not exists\n",
    "engine.execute(\"CREATE FILE FORMAT IF NOT EXISTS CSV_FORMAT \"\n",
    "                \"TYPE = 'CSV' \"\n",
    "                \"FIELD_DELIMITER = ',' \"\n",
    "                \"SKIP_HEADER = 1 \"\n",
    "                \"FIELD_OPTIONALLY_ENCLOSED_BY = '\\042' \"\n",
    "                \"ERROR_ON_COLUMN_COUNT_MISMATCH = TRUE \"\n",
    "              )"
   ]
  },
  {
   "cell_type": "code",
   "execution_count": 40,
   "id": "1a6e655b",
   "metadata": {},
   "outputs": [
    {
     "data": {
      "text/plain": [
       "<snowflake.connector.cursor.SnowflakeCursor at 0x7f8a8e51bfa0>"
      ]
     },
     "execution_count": 40,
     "metadata": {},
     "output_type": "execute_result"
    }
   ],
   "source": [
    "# create test table\n",
    "engine.execute(\n",
    "        \"CREATE OR REPLACE TABLE \"\n",
    "        \"test_table(col1 integer, col2 string)\")"
   ]
  },
  {
   "cell_type": "code",
   "execution_count": 18,
   "id": "db8e3c07",
   "metadata": {},
   "outputs": [
    {
     "data": {
      "text/plain": [
       "<snowflake.connector.cursor.SnowflakeCursor at 0x7efd57f1c7f0>"
      ]
     },
     "execution_count": 18,
     "metadata": {},
     "output_type": "execute_result"
    }
   ],
   "source": [
    "# stagging into table\n",
    "engine.execute(f\"put file://Monthly_PO_Data/2013* @%test_table\")"
   ]
  },
  {
   "cell_type": "code",
   "execution_count": 22,
   "id": "16be22e9",
   "metadata": {},
   "outputs": [
    {
     "data": {
      "text/plain": [
       "<snowflake.connector.cursor.SnowflakeCursor at 0x7efd57f1c7f0>"
      ]
     },
     "execution_count": 22,
     "metadata": {},
     "output_type": "execute_result"
    }
   ],
   "source": [
    "# ... manual input to create default table and selecting the right columns to copy into table (A terrible nightmare)\n",
    "engine.execute(\"CREATE OR REPLACE TABLE \"\n",
    "               \"TEST_MONTHLY_PO(PurchaseOrderID number, SupplierID number, OrderDate date, DeliveryMethodID number, \"\n",
    "               \"ExpectedDeliveryDate date, SupplierReference varchar, LastEditedBy number, PurchaseOrderLineID number, \"\n",
    "               \"StockItemID number, OrderedOuters number, Description varchar, ReceivedOuters number, PackageTypeID number, \"\n",
    "               \"ExpectedUnitPricePerOuter number, LastReceiptDate date, Right_LastEditedBy number)\")"
   ]
  },
  {
   "cell_type": "code",
   "execution_count": 26,
   "id": "52fe966f",
   "metadata": {},
   "outputs": [
    {
     "data": {
      "text/plain": [
       "<snowflake.connector.cursor.SnowflakeCursor at 0x7efd57f1c7f0>"
      ]
     },
     "execution_count": 26,
     "metadata": {},
     "output_type": "execute_result"
    }
   ],
   "source": [
    "# stagging into table\n",
    "engine.execute(f\"put file://Monthly_PO_Data/2014* @%test_monthly_po\")"
   ]
  },
  {
   "cell_type": "code",
   "execution_count": 27,
   "id": "440a2963",
   "metadata": {},
   "outputs": [
    {
     "data": {
      "text/plain": [
       "<snowflake.connector.cursor.SnowflakeCursor at 0x7efd57f1c7f0>"
      ]
     },
     "execution_count": 27,
     "metadata": {},
     "output_type": "execute_result"
    }
   ],
   "source": [
    "engine.execute(f\"COPY INTO test_monthly_po FROM (SELECT $1, $2, $3, $4, $6, $7, $11, $13, $14, $15, $16, $17, $18, $19, $20, $22 FROM @%test_monthly_po) \"\n",
    "               \"FILE_FORMAT = (FORMAT_NAME = TEST_CSV_FORMAT)\")"
   ]
  },
  {
   "cell_type": "code",
   "execution_count": 35,
   "id": "0ca924d8",
   "metadata": {},
   "outputs": [],
   "source": [
    "# Check Table\n",
    "sql = \"SELECT * FROM test_monthly_po\""
   ]
  },
  {
   "cell_type": "code",
   "execution_count": 36,
   "id": "e8d2b54b",
   "metadata": {
    "collapsed": true,
    "jupyter": {
     "outputs_hidden": true
    }
   },
   "outputs": [
    {
     "ename": "AttributeError",
     "evalue": "'SnowflakeCursor' object has no attribute 'cursor'",
     "output_type": "error",
     "traceback": [
      "\u001b[0;31m---------------------------------------------------------------------------\u001b[0m",
      "\u001b[0;31mAttributeError\u001b[0m                            Traceback (most recent call last)",
      "\u001b[0;32m<ipython-input-36-d8f21d107dd7>\u001b[0m in \u001b[0;36m<module>\u001b[0;34m\u001b[0m\n\u001b[0;32m----> 1\u001b[0;31m \u001b[0mpd\u001b[0m\u001b[0;34m.\u001b[0m\u001b[0mread_sql_query\u001b[0m\u001b[0;34m(\u001b[0m\u001b[0msql\u001b[0m\u001b[0;34m,\u001b[0m \u001b[0mengine\u001b[0m\u001b[0;34m)\u001b[0m\u001b[0;34m\u001b[0m\u001b[0;34m\u001b[0m\u001b[0m\n\u001b[0m",
      "\u001b[0;32m/usr/local/lib/python3.8/dist-packages/pandas/io/sql.py\u001b[0m in \u001b[0;36mread_sql_query\u001b[0;34m(sql, con, index_col, coerce_float, params, parse_dates, chunksize)\u001b[0m\n\u001b[1;32m    386\u001b[0m     \"\"\"\n\u001b[1;32m    387\u001b[0m     \u001b[0mpandas_sql\u001b[0m \u001b[0;34m=\u001b[0m \u001b[0mpandasSQL_builder\u001b[0m\u001b[0;34m(\u001b[0m\u001b[0mcon\u001b[0m\u001b[0;34m)\u001b[0m\u001b[0;34m\u001b[0m\u001b[0;34m\u001b[0m\u001b[0m\n\u001b[0;32m--> 388\u001b[0;31m     return pandas_sql.read_query(\n\u001b[0m\u001b[1;32m    389\u001b[0m         \u001b[0msql\u001b[0m\u001b[0;34m,\u001b[0m\u001b[0;34m\u001b[0m\u001b[0;34m\u001b[0m\u001b[0m\n\u001b[1;32m    390\u001b[0m         \u001b[0mindex_col\u001b[0m\u001b[0;34m=\u001b[0m\u001b[0mindex_col\u001b[0m\u001b[0;34m,\u001b[0m\u001b[0;34m\u001b[0m\u001b[0;34m\u001b[0m\u001b[0m\n",
      "\u001b[0;32m/usr/local/lib/python3.8/dist-packages/pandas/io/sql.py\u001b[0m in \u001b[0;36mread_query\u001b[0;34m(self, sql, index_col, coerce_float, params, parse_dates, chunksize)\u001b[0m\n\u001b[1;32m   1769\u001b[0m \u001b[0;34m\u001b[0m\u001b[0m\n\u001b[1;32m   1770\u001b[0m         \u001b[0margs\u001b[0m \u001b[0;34m=\u001b[0m \u001b[0m_convert_params\u001b[0m\u001b[0;34m(\u001b[0m\u001b[0msql\u001b[0m\u001b[0;34m,\u001b[0m \u001b[0mparams\u001b[0m\u001b[0;34m)\u001b[0m\u001b[0;34m\u001b[0m\u001b[0;34m\u001b[0m\u001b[0m\n\u001b[0;32m-> 1771\u001b[0;31m         \u001b[0mcursor\u001b[0m \u001b[0;34m=\u001b[0m \u001b[0mself\u001b[0m\u001b[0;34m.\u001b[0m\u001b[0mexecute\u001b[0m\u001b[0;34m(\u001b[0m\u001b[0;34m*\u001b[0m\u001b[0margs\u001b[0m\u001b[0;34m)\u001b[0m\u001b[0;34m\u001b[0m\u001b[0;34m\u001b[0m\u001b[0m\n\u001b[0m\u001b[1;32m   1772\u001b[0m         \u001b[0mcolumns\u001b[0m \u001b[0;34m=\u001b[0m \u001b[0;34m[\u001b[0m\u001b[0mcol_desc\u001b[0m\u001b[0;34m[\u001b[0m\u001b[0;36m0\u001b[0m\u001b[0;34m]\u001b[0m \u001b[0;32mfor\u001b[0m \u001b[0mcol_desc\u001b[0m \u001b[0;32min\u001b[0m \u001b[0mcursor\u001b[0m\u001b[0;34m.\u001b[0m\u001b[0mdescription\u001b[0m\u001b[0;34m]\u001b[0m\u001b[0;34m\u001b[0m\u001b[0;34m\u001b[0m\u001b[0m\n\u001b[1;32m   1773\u001b[0m \u001b[0;34m\u001b[0m\u001b[0m\n",
      "\u001b[0;32m/usr/local/lib/python3.8/dist-packages/pandas/io/sql.py\u001b[0m in \u001b[0;36mexecute\u001b[0;34m(self, *args, **kwargs)\u001b[0m\n\u001b[1;32m   1721\u001b[0m             \u001b[0mcur\u001b[0m \u001b[0;34m=\u001b[0m \u001b[0mself\u001b[0m\u001b[0;34m.\u001b[0m\u001b[0mcon\u001b[0m\u001b[0;34m\u001b[0m\u001b[0;34m\u001b[0m\u001b[0m\n\u001b[1;32m   1722\u001b[0m         \u001b[0;32melse\u001b[0m\u001b[0;34m:\u001b[0m\u001b[0;34m\u001b[0m\u001b[0;34m\u001b[0m\u001b[0m\n\u001b[0;32m-> 1723\u001b[0;31m             \u001b[0mcur\u001b[0m \u001b[0;34m=\u001b[0m \u001b[0mself\u001b[0m\u001b[0;34m.\u001b[0m\u001b[0mcon\u001b[0m\u001b[0;34m.\u001b[0m\u001b[0mcursor\u001b[0m\u001b[0;34m(\u001b[0m\u001b[0;34m)\u001b[0m\u001b[0;34m\u001b[0m\u001b[0;34m\u001b[0m\u001b[0m\n\u001b[0m\u001b[1;32m   1724\u001b[0m         \u001b[0;32mtry\u001b[0m\u001b[0;34m:\u001b[0m\u001b[0;34m\u001b[0m\u001b[0;34m\u001b[0m\u001b[0m\n\u001b[1;32m   1725\u001b[0m             \u001b[0mcur\u001b[0m\u001b[0;34m.\u001b[0m\u001b[0mexecute\u001b[0m\u001b[0;34m(\u001b[0m\u001b[0;34m*\u001b[0m\u001b[0margs\u001b[0m\u001b[0;34m,\u001b[0m \u001b[0;34m**\u001b[0m\u001b[0mkwargs\u001b[0m\u001b[0;34m)\u001b[0m\u001b[0;34m\u001b[0m\u001b[0;34m\u001b[0m\u001b[0m\n",
      "\u001b[0;31mAttributeError\u001b[0m: 'SnowflakeCursor' object has no attribute 'cursor'"
     ]
    }
   ],
   "source": [
    "pd.read_sql_query(sql, engine)"
   ]
  },
  {
   "cell_type": "code",
   "execution_count": 25,
   "id": "530854f1",
   "metadata": {},
   "outputs": [
    {
     "data": {
      "text/plain": [
       "<snowflake.connector.cursor.SnowflakeCursor at 0x7efd57f1c7f0>"
      ]
     },
     "execution_count": 25,
     "metadata": {},
     "output_type": "execute_result"
    }
   ],
   "source": [
    "# Retrieve list of files in stage\n",
    "engine.execute(\"LIST @%test_monthly_po\")"
   ]
  },
  {
   "cell_type": "code",
   "execution_count": 34,
   "id": "8e59fa66",
   "metadata": {},
   "outputs": [
    {
     "data": {
      "text/plain": [
       "<snowflake.connector.cursor.SnowflakeCursor at 0x7efd57f1c7f0>"
      ]
     },
     "execution_count": 34,
     "metadata": {},
     "output_type": "execute_result"
    }
   ],
   "source": [
    "# Removing files from stage after loading is successful\n",
    "engine.execute(\"REMOVE @%test_monthly_po PATTERN='.*.csv'\")"
   ]
  },
  {
   "cell_type": "code",
   "execution_count": 25,
   "id": "73bb3e81",
   "metadata": {},
   "outputs": [
    {
     "data": {
      "text/plain": [
       "<snowflake.connector.cursor.SnowflakeCursor at 0x7efd57f1c7f0>"
      ]
     },
     "execution_count": 25,
     "metadata": {},
     "output_type": "execute_result"
    }
   ],
   "source": [
    "# Verify that they're all removed from stage\n",
    "engine.execute(\"LIST @%test_monthly_po\")"
   ]
  },
  {
   "cell_type": "code",
   "execution_count": 159,
   "id": "ffe83421",
   "metadata": {},
   "outputs": [
    {
     "data": {
      "text/plain": [
       "<snowflake.connector.cursor.SnowflakeCursor at 0x7efd039a0a30>"
      ]
     },
     "execution_count": 159,
     "metadata": {},
     "output_type": "execute_result"
    }
   ],
   "source": [
    "# Staging into a named stage instead of a table stage...\n",
    "# Depends on preference, you can either do a table stage or named stage\n",
    "# But for the actual loading run, I'mma use table stage\n",
    "engine.execute(f\"put file://Monthly_PO_Data/2014* @CSV_STAGE\")"
   ]
  },
  {
   "cell_type": "code",
   "execution_count": 168,
   "id": "f7ee2f94",
   "metadata": {},
   "outputs": [
    {
     "data": {
      "text/plain": [
       "<snowflake.connector.cursor.SnowflakeCursor at 0x7efd039a0a30>"
      ]
     },
     "execution_count": 168,
     "metadata": {},
     "output_type": "execute_result"
    }
   ],
   "source": [
    "# Queries a list of files. See Snowflake history\n",
    "engine.execute(\"LIST @CSV_STAGE\")"
   ]
  },
  {
   "cell_type": "code",
   "execution_count": 161,
   "id": "27477bff",
   "metadata": {},
   "outputs": [
    {
     "data": {
      "text/plain": [
       "<snowflake.connector.cursor.SnowflakeCursor at 0x7efd039a0a30>"
      ]
     },
     "execution_count": 161,
     "metadata": {},
     "output_type": "execute_result"
    }
   ],
   "source": [
    "# Loading into table\n",
    "engine.execute(f\"COPY INTO test_monthly_po FROM (SELECT $1, $2, $3, $4, $6, $7, $11, $13, $14, $15, $16, $17, $18, $19, $20, $22 FROM @CSV_STAGE) \"\n",
    "               \"FILE_FORMAT = (FORMAT_NAME = TEST_CSV_FORMAT)\")"
   ]
  },
  {
   "cell_type": "code",
   "execution_count": 167,
   "id": "41303598",
   "metadata": {},
   "outputs": [
    {
     "data": {
      "text/plain": [
       "<snowflake.connector.cursor.SnowflakeCursor at 0x7efd039a0a30>"
      ]
     },
     "execution_count": 167,
     "metadata": {},
     "output_type": "execute_result"
    }
   ],
   "source": [
    "# Remove files from stage after loading into table\n",
    "engine.execute(\"REMOVE @CSV_STAGE\")"
   ]
  },
  {
   "cell_type": "code",
   "execution_count": null,
   "id": "7d5d857f",
   "metadata": {},
   "outputs": [],
   "source": [
    "# To get that fetch_pandas_all() method that doesn't seem to work for me yet... but it's supposed to retrieve column names as well, unlike fetchall()\n",
    "# NOTE: it was also mentioned at the very top of this file, but in case you haven't done it...\n",
    "import sys\n",
    "!{sys.executable} -m pip install 'snowflake-connector-Python[pandas]'"
   ]
  },
  {
   "cell_type": "code",
   "execution_count": 184,
   "id": "979af4b0",
   "metadata": {},
   "outputs": [],
   "source": [
    "import pandas as pd\n",
    "import snowflake.connector\n",
    "\n",
    "conn = snowflake.connector.connect(\n",
    "            user=UserName,\n",
    "            password=\"9r*WWEL&9mmEzvW\",\n",
    "            account=Account,\n",
    "            warehouse=warehouse,\n",
    "            database=\"MSBA_ETL\",\n",
    "            schema=\"PUBLIC\"\n",
    "            )\n",
    "\n",
    "# cur = conn.cursor()"
   ]
  },
  {
   "cell_type": "code",
   "execution_count": 187,
   "id": "e06dbb6b",
   "metadata": {},
   "outputs": [],
   "source": [
    "# defining the connecting only\n",
    "\n",
    "df = pd.read_sql(sql, conn)"
   ]
  },
  {
   "cell_type": "code",
   "execution_count": 188,
   "id": "f01eee39",
   "metadata": {
    "collapsed": true,
    "jupyter": {
     "outputs_hidden": true
    }
   },
   "outputs": [
    {
     "data": {
      "text/html": [
       "<div>\n",
       "<style scoped>\n",
       "    .dataframe tbody tr th:only-of-type {\n",
       "        vertical-align: middle;\n",
       "    }\n",
       "\n",
       "    .dataframe tbody tr th {\n",
       "        vertical-align: top;\n",
       "    }\n",
       "\n",
       "    .dataframe thead th {\n",
       "        text-align: right;\n",
       "    }\n",
       "</style>\n",
       "<table border=\"1\" class=\"dataframe\">\n",
       "  <thead>\n",
       "    <tr style=\"text-align: right;\">\n",
       "      <th></th>\n",
       "      <th>PURCHASEORDERID</th>\n",
       "      <th>SUPPLIERID</th>\n",
       "      <th>ORDERDATE</th>\n",
       "      <th>DELIVERYMETHODID</th>\n",
       "      <th>EXPECTEDDELIVERYDATE</th>\n",
       "      <th>SUPPLIERREFERENCE</th>\n",
       "      <th>LASTEDITEDBY</th>\n",
       "      <th>PURCHASEORDERLINEID</th>\n",
       "      <th>STOCKITEMID</th>\n",
       "      <th>ORDEREDOUTERS</th>\n",
       "      <th>DESCRIPTION</th>\n",
       "      <th>RECEIVEDOUTERS</th>\n",
       "      <th>PACKAGETYPEID</th>\n",
       "      <th>EXPECTEDUNITPRICEPEROUTER</th>\n",
       "      <th>LASTRECEIPTDATE</th>\n",
       "      <th>RIGHT_LASTEDITEDBY</th>\n",
       "    </tr>\n",
       "  </thead>\n",
       "  <tbody>\n",
       "    <tr>\n",
       "      <th>0</th>\n",
       "      <td>558</td>\n",
       "      <td>4</td>\n",
       "      <td>2013-12-02</td>\n",
       "      <td>7</td>\n",
       "      <td>2013-12-22</td>\n",
       "      <td>293092</td>\n",
       "      <td>8</td>\n",
       "      <td>2160</td>\n",
       "      <td>77</td>\n",
       "      <td>767</td>\n",
       "      <td>\"The Gu\" red shirt XML tag t-shirt (White) XXS</td>\n",
       "      <td>767</td>\n",
       "      <td>6</td>\n",
       "      <td>84</td>\n",
       "      <td>2013-12-03</td>\n",
       "      <td>8</td>\n",
       "    </tr>\n",
       "    <tr>\n",
       "      <th>1</th>\n",
       "      <td>558</td>\n",
       "      <td>4</td>\n",
       "      <td>2013-12-02</td>\n",
       "      <td>7</td>\n",
       "      <td>2013-12-22</td>\n",
       "      <td>293092</td>\n",
       "      <td>8</td>\n",
       "      <td>2161</td>\n",
       "      <td>78</td>\n",
       "      <td>981</td>\n",
       "      <td>\"The Gu\" red shirt XML tag t-shirt (White) XS</td>\n",
       "      <td>981</td>\n",
       "      <td>6</td>\n",
       "      <td>84</td>\n",
       "      <td>2013-12-03</td>\n",
       "      <td>8</td>\n",
       "    </tr>\n",
       "    <tr>\n",
       "      <th>2</th>\n",
       "      <td>558</td>\n",
       "      <td>4</td>\n",
       "      <td>2013-12-02</td>\n",
       "      <td>7</td>\n",
       "      <td>2013-12-22</td>\n",
       "      <td>293092</td>\n",
       "      <td>8</td>\n",
       "      <td>2162</td>\n",
       "      <td>80</td>\n",
       "      <td>397</td>\n",
       "      <td>\"The Gu\" red shirt XML tag t-shirt (White) M</td>\n",
       "      <td>397</td>\n",
       "      <td>6</td>\n",
       "      <td>84</td>\n",
       "      <td>2013-12-03</td>\n",
       "      <td>8</td>\n",
       "    </tr>\n",
       "    <tr>\n",
       "      <th>3</th>\n",
       "      <td>558</td>\n",
       "      <td>4</td>\n",
       "      <td>2013-12-02</td>\n",
       "      <td>7</td>\n",
       "      <td>2013-12-22</td>\n",
       "      <td>293092</td>\n",
       "      <td>8</td>\n",
       "      <td>2163</td>\n",
       "      <td>86</td>\n",
       "      <td>816</td>\n",
       "      <td>\"The Gu\" red shirt XML tag t-shirt (White) 5XL</td>\n",
       "      <td>816</td>\n",
       "      <td>6</td>\n",
       "      <td>96</td>\n",
       "      <td>2013-12-03</td>\n",
       "      <td>8</td>\n",
       "    </tr>\n",
       "    <tr>\n",
       "      <th>4</th>\n",
       "      <td>558</td>\n",
       "      <td>4</td>\n",
       "      <td>2013-12-02</td>\n",
       "      <td>7</td>\n",
       "      <td>2013-12-22</td>\n",
       "      <td>293092</td>\n",
       "      <td>8</td>\n",
       "      <td>2164</td>\n",
       "      <td>95</td>\n",
       "      <td>521</td>\n",
       "      <td>\"The Gu\" red shirt XML tag t-shirt (Black) XL</td>\n",
       "      <td>521</td>\n",
       "      <td>6</td>\n",
       "      <td>90</td>\n",
       "      <td>2013-12-03</td>\n",
       "      <td>8</td>\n",
       "    </tr>\n",
       "    <tr>\n",
       "      <th>...</th>\n",
       "      <td>...</td>\n",
       "      <td>...</td>\n",
       "      <td>...</td>\n",
       "      <td>...</td>\n",
       "      <td>...</td>\n",
       "      <td>...</td>\n",
       "      <td>...</td>\n",
       "      <td>...</td>\n",
       "      <td>...</td>\n",
       "      <td>...</td>\n",
       "      <td>...</td>\n",
       "      <td>...</td>\n",
       "      <td>...</td>\n",
       "      <td>...</td>\n",
       "      <td>...</td>\n",
       "      <td>...</td>\n",
       "    </tr>\n",
       "    <tr>\n",
       "      <th>95</th>\n",
       "      <td>582</td>\n",
       "      <td>7</td>\n",
       "      <td>2013-12-17</td>\n",
       "      <td>2</td>\n",
       "      <td>2014-01-06</td>\n",
       "      <td>BC0280982</td>\n",
       "      <td>15</td>\n",
       "      <td>2255</td>\n",
       "      <td>193</td>\n",
       "      <td>408</td>\n",
       "      <td>Black and orange glass with care despatch tape...</td>\n",
       "      <td>408</td>\n",
       "      <td>7</td>\n",
       "      <td>38</td>\n",
       "      <td>2013-12-18</td>\n",
       "      <td>15</td>\n",
       "    </tr>\n",
       "    <tr>\n",
       "      <th>96</th>\n",
       "      <td>582</td>\n",
       "      <td>7</td>\n",
       "      <td>2013-12-17</td>\n",
       "      <td>2</td>\n",
       "      <td>2014-01-06</td>\n",
       "      <td>BC0280982</td>\n",
       "      <td>15</td>\n",
       "      <td>2256</td>\n",
       "      <td>204</td>\n",
       "      <td>483</td>\n",
       "      <td>Tape dispenser (Red)</td>\n",
       "      <td>483</td>\n",
       "      <td>7</td>\n",
       "      <td>170</td>\n",
       "      <td>2013-12-18</td>\n",
       "      <td>15</td>\n",
       "    </tr>\n",
       "    <tr>\n",
       "      <th>97</th>\n",
       "      <td>583</td>\n",
       "      <td>4</td>\n",
       "      <td>2013-12-18</td>\n",
       "      <td>7</td>\n",
       "      <td>2014-01-07</td>\n",
       "      <td>293092</td>\n",
       "      <td>20</td>\n",
       "      <td>2257</td>\n",
       "      <td>77</td>\n",
       "      <td>837</td>\n",
       "      <td>\"The Gu\" red shirt XML tag t-shirt (White) XXS</td>\n",
       "      <td>837</td>\n",
       "      <td>6</td>\n",
       "      <td>84</td>\n",
       "      <td>2013-12-19</td>\n",
       "      <td>20</td>\n",
       "    </tr>\n",
       "    <tr>\n",
       "      <th>98</th>\n",
       "      <td>583</td>\n",
       "      <td>4</td>\n",
       "      <td>2013-12-18</td>\n",
       "      <td>7</td>\n",
       "      <td>2014-01-07</td>\n",
       "      <td>293092</td>\n",
       "      <td>20</td>\n",
       "      <td>2258</td>\n",
       "      <td>78</td>\n",
       "      <td>969</td>\n",
       "      <td>\"The Gu\" red shirt XML tag t-shirt (White) XS</td>\n",
       "      <td>969</td>\n",
       "      <td>6</td>\n",
       "      <td>84</td>\n",
       "      <td>2013-12-19</td>\n",
       "      <td>20</td>\n",
       "    </tr>\n",
       "    <tr>\n",
       "      <th>99</th>\n",
       "      <td>583</td>\n",
       "      <td>4</td>\n",
       "      <td>2013-12-18</td>\n",
       "      <td>7</td>\n",
       "      <td>2014-01-07</td>\n",
       "      <td>293092</td>\n",
       "      <td>20</td>\n",
       "      <td>2259</td>\n",
       "      <td>80</td>\n",
       "      <td>394</td>\n",
       "      <td>\"The Gu\" red shirt XML tag t-shirt (White) M</td>\n",
       "      <td>394</td>\n",
       "      <td>6</td>\n",
       "      <td>84</td>\n",
       "      <td>2013-12-19</td>\n",
       "      <td>20</td>\n",
       "    </tr>\n",
       "  </tbody>\n",
       "</table>\n",
       "<p>100 rows × 16 columns</p>\n",
       "</div>"
      ],
      "text/plain": [
       "    PURCHASEORDERID  SUPPLIERID   ORDERDATE  DELIVERYMETHODID  \\\n",
       "0               558           4  2013-12-02                 7   \n",
       "1               558           4  2013-12-02                 7   \n",
       "2               558           4  2013-12-02                 7   \n",
       "3               558           4  2013-12-02                 7   \n",
       "4               558           4  2013-12-02                 7   \n",
       "..              ...         ...         ...               ...   \n",
       "95              582           7  2013-12-17                 2   \n",
       "96              582           7  2013-12-17                 2   \n",
       "97              583           4  2013-12-18                 7   \n",
       "98              583           4  2013-12-18                 7   \n",
       "99              583           4  2013-12-18                 7   \n",
       "\n",
       "   EXPECTEDDELIVERYDATE SUPPLIERREFERENCE  LASTEDITEDBY  PURCHASEORDERLINEID  \\\n",
       "0            2013-12-22            293092             8                 2160   \n",
       "1            2013-12-22            293092             8                 2161   \n",
       "2            2013-12-22            293092             8                 2162   \n",
       "3            2013-12-22            293092             8                 2163   \n",
       "4            2013-12-22            293092             8                 2164   \n",
       "..                  ...               ...           ...                  ...   \n",
       "95           2014-01-06         BC0280982            15                 2255   \n",
       "96           2014-01-06         BC0280982            15                 2256   \n",
       "97           2014-01-07            293092            20                 2257   \n",
       "98           2014-01-07            293092            20                 2258   \n",
       "99           2014-01-07            293092            20                 2259   \n",
       "\n",
       "    STOCKITEMID  ORDEREDOUTERS  \\\n",
       "0            77            767   \n",
       "1            78            981   \n",
       "2            80            397   \n",
       "3            86            816   \n",
       "4            95            521   \n",
       "..          ...            ...   \n",
       "95          193            408   \n",
       "96          204            483   \n",
       "97           77            837   \n",
       "98           78            969   \n",
       "99           80            394   \n",
       "\n",
       "                                          DESCRIPTION  RECEIVEDOUTERS  \\\n",
       "0      \"The Gu\" red shirt XML tag t-shirt (White) XXS             767   \n",
       "1       \"The Gu\" red shirt XML tag t-shirt (White) XS             981   \n",
       "2        \"The Gu\" red shirt XML tag t-shirt (White) M             397   \n",
       "3      \"The Gu\" red shirt XML tag t-shirt (White) 5XL             816   \n",
       "4       \"The Gu\" red shirt XML tag t-shirt (Black) XL             521   \n",
       "..                                                ...             ...   \n",
       "95  Black and orange glass with care despatch tape...             408   \n",
       "96                               Tape dispenser (Red)             483   \n",
       "97     \"The Gu\" red shirt XML tag t-shirt (White) XXS             837   \n",
       "98      \"The Gu\" red shirt XML tag t-shirt (White) XS             969   \n",
       "99       \"The Gu\" red shirt XML tag t-shirt (White) M             394   \n",
       "\n",
       "    PACKAGETYPEID  EXPECTEDUNITPRICEPEROUTER LASTRECEIPTDATE  \\\n",
       "0               6                         84      2013-12-03   \n",
       "1               6                         84      2013-12-03   \n",
       "2               6                         84      2013-12-03   \n",
       "3               6                         96      2013-12-03   \n",
       "4               6                         90      2013-12-03   \n",
       "..            ...                        ...             ...   \n",
       "95              7                         38      2013-12-18   \n",
       "96              7                        170      2013-12-18   \n",
       "97              6                         84      2013-12-19   \n",
       "98              6                         84      2013-12-19   \n",
       "99              6                         84      2013-12-19   \n",
       "\n",
       "    RIGHT_LASTEDITEDBY  \n",
       "0                    8  \n",
       "1                    8  \n",
       "2                    8  \n",
       "3                    8  \n",
       "4                    8  \n",
       "..                 ...  \n",
       "95                  15  \n",
       "96                  15  \n",
       "97                  20  \n",
       "98                  20  \n",
       "99                  20  \n",
       "\n",
       "[100 rows x 16 columns]"
      ]
     },
     "execution_count": 188,
     "metadata": {},
     "output_type": "execute_result"
    }
   ],
   "source": [
    "df"
   ]
  },
  {
   "cell_type": "code",
   "execution_count": 189,
   "id": "febd3f7e",
   "metadata": {},
   "outputs": [],
   "source": [
    "conn.close()"
   ]
  },
  {
   "cell_type": "code",
   "execution_count": 181,
   "id": "e8117017",
   "metadata": {},
   "outputs": [
    {
     "data": {
      "text/plain": [
       "<snowflake.connector.cursor.SnowflakeCursor at 0x7efd57e99550>"
      ]
     },
     "execution_count": 181,
     "metadata": {},
     "output_type": "execute_result"
    }
   ],
   "source": [
    "# using cursor\n",
    "cur.execute(sql)"
   ]
  },
  {
   "cell_type": "code",
   "execution_count": 132,
   "id": "343ec2de",
   "metadata": {},
   "outputs": [],
   "source": [
    "df = cur.fetchall()"
   ]
  },
  {
   "cell_type": "code",
   "execution_count": 134,
   "id": "6560d1d3",
   "metadata": {},
   "outputs": [
    {
     "data": {
      "text/html": [
       "<div>\n",
       "<style scoped>\n",
       "    .dataframe tbody tr th:only-of-type {\n",
       "        vertical-align: middle;\n",
       "    }\n",
       "\n",
       "    .dataframe tbody tr th {\n",
       "        vertical-align: top;\n",
       "    }\n",
       "\n",
       "    .dataframe thead th {\n",
       "        text-align: right;\n",
       "    }\n",
       "</style>\n",
       "<table border=\"1\" class=\"dataframe\">\n",
       "  <thead>\n",
       "    <tr style=\"text-align: right;\">\n",
       "      <th></th>\n",
       "      <th>0</th>\n",
       "      <th>1</th>\n",
       "      <th>2</th>\n",
       "      <th>3</th>\n",
       "      <th>4</th>\n",
       "      <th>5</th>\n",
       "      <th>6</th>\n",
       "      <th>7</th>\n",
       "      <th>8</th>\n",
       "      <th>9</th>\n",
       "      <th>10</th>\n",
       "      <th>11</th>\n",
       "      <th>12</th>\n",
       "      <th>13</th>\n",
       "      <th>14</th>\n",
       "      <th>15</th>\n",
       "    </tr>\n",
       "  </thead>\n",
       "  <tbody>\n",
       "    <tr>\n",
       "      <th>0</th>\n",
       "      <td>558</td>\n",
       "      <td>4</td>\n",
       "      <td>2013-12-02</td>\n",
       "      <td>7</td>\n",
       "      <td>2013-12-22</td>\n",
       "      <td>293092</td>\n",
       "      <td>8</td>\n",
       "      <td>2160</td>\n",
       "      <td>77</td>\n",
       "      <td>767</td>\n",
       "      <td>\"The Gu\" red shirt XML tag t-shirt (White) XXS</td>\n",
       "      <td>767</td>\n",
       "      <td>6</td>\n",
       "      <td>84</td>\n",
       "      <td>2013-12-03</td>\n",
       "      <td>8</td>\n",
       "    </tr>\n",
       "    <tr>\n",
       "      <th>1</th>\n",
       "      <td>558</td>\n",
       "      <td>4</td>\n",
       "      <td>2013-12-02</td>\n",
       "      <td>7</td>\n",
       "      <td>2013-12-22</td>\n",
       "      <td>293092</td>\n",
       "      <td>8</td>\n",
       "      <td>2161</td>\n",
       "      <td>78</td>\n",
       "      <td>981</td>\n",
       "      <td>\"The Gu\" red shirt XML tag t-shirt (White) XS</td>\n",
       "      <td>981</td>\n",
       "      <td>6</td>\n",
       "      <td>84</td>\n",
       "      <td>2013-12-03</td>\n",
       "      <td>8</td>\n",
       "    </tr>\n",
       "    <tr>\n",
       "      <th>2</th>\n",
       "      <td>558</td>\n",
       "      <td>4</td>\n",
       "      <td>2013-12-02</td>\n",
       "      <td>7</td>\n",
       "      <td>2013-12-22</td>\n",
       "      <td>293092</td>\n",
       "      <td>8</td>\n",
       "      <td>2162</td>\n",
       "      <td>80</td>\n",
       "      <td>397</td>\n",
       "      <td>\"The Gu\" red shirt XML tag t-shirt (White) M</td>\n",
       "      <td>397</td>\n",
       "      <td>6</td>\n",
       "      <td>84</td>\n",
       "      <td>2013-12-03</td>\n",
       "      <td>8</td>\n",
       "    </tr>\n",
       "    <tr>\n",
       "      <th>3</th>\n",
       "      <td>558</td>\n",
       "      <td>4</td>\n",
       "      <td>2013-12-02</td>\n",
       "      <td>7</td>\n",
       "      <td>2013-12-22</td>\n",
       "      <td>293092</td>\n",
       "      <td>8</td>\n",
       "      <td>2163</td>\n",
       "      <td>86</td>\n",
       "      <td>816</td>\n",
       "      <td>\"The Gu\" red shirt XML tag t-shirt (White) 5XL</td>\n",
       "      <td>816</td>\n",
       "      <td>6</td>\n",
       "      <td>96</td>\n",
       "      <td>2013-12-03</td>\n",
       "      <td>8</td>\n",
       "    </tr>\n",
       "    <tr>\n",
       "      <th>4</th>\n",
       "      <td>558</td>\n",
       "      <td>4</td>\n",
       "      <td>2013-12-02</td>\n",
       "      <td>7</td>\n",
       "      <td>2013-12-22</td>\n",
       "      <td>293092</td>\n",
       "      <td>8</td>\n",
       "      <td>2164</td>\n",
       "      <td>95</td>\n",
       "      <td>521</td>\n",
       "      <td>\"The Gu\" red shirt XML tag t-shirt (Black) XL</td>\n",
       "      <td>521</td>\n",
       "      <td>6</td>\n",
       "      <td>90</td>\n",
       "      <td>2013-12-03</td>\n",
       "      <td>8</td>\n",
       "    </tr>\n",
       "    <tr>\n",
       "      <th>...</th>\n",
       "      <td>...</td>\n",
       "      <td>...</td>\n",
       "      <td>...</td>\n",
       "      <td>...</td>\n",
       "      <td>...</td>\n",
       "      <td>...</td>\n",
       "      <td>...</td>\n",
       "      <td>...</td>\n",
       "      <td>...</td>\n",
       "      <td>...</td>\n",
       "      <td>...</td>\n",
       "      <td>...</td>\n",
       "      <td>...</td>\n",
       "      <td>...</td>\n",
       "      <td>...</td>\n",
       "      <td>...</td>\n",
       "    </tr>\n",
       "    <tr>\n",
       "      <th>95</th>\n",
       "      <td>582</td>\n",
       "      <td>7</td>\n",
       "      <td>2013-12-17</td>\n",
       "      <td>2</td>\n",
       "      <td>2014-01-06</td>\n",
       "      <td>BC0280982</td>\n",
       "      <td>15</td>\n",
       "      <td>2255</td>\n",
       "      <td>193</td>\n",
       "      <td>408</td>\n",
       "      <td>Black and orange glass with care despatch tape...</td>\n",
       "      <td>408</td>\n",
       "      <td>7</td>\n",
       "      <td>38</td>\n",
       "      <td>2013-12-18</td>\n",
       "      <td>15</td>\n",
       "    </tr>\n",
       "    <tr>\n",
       "      <th>96</th>\n",
       "      <td>582</td>\n",
       "      <td>7</td>\n",
       "      <td>2013-12-17</td>\n",
       "      <td>2</td>\n",
       "      <td>2014-01-06</td>\n",
       "      <td>BC0280982</td>\n",
       "      <td>15</td>\n",
       "      <td>2256</td>\n",
       "      <td>204</td>\n",
       "      <td>483</td>\n",
       "      <td>Tape dispenser (Red)</td>\n",
       "      <td>483</td>\n",
       "      <td>7</td>\n",
       "      <td>170</td>\n",
       "      <td>2013-12-18</td>\n",
       "      <td>15</td>\n",
       "    </tr>\n",
       "    <tr>\n",
       "      <th>97</th>\n",
       "      <td>583</td>\n",
       "      <td>4</td>\n",
       "      <td>2013-12-18</td>\n",
       "      <td>7</td>\n",
       "      <td>2014-01-07</td>\n",
       "      <td>293092</td>\n",
       "      <td>20</td>\n",
       "      <td>2257</td>\n",
       "      <td>77</td>\n",
       "      <td>837</td>\n",
       "      <td>\"The Gu\" red shirt XML tag t-shirt (White) XXS</td>\n",
       "      <td>837</td>\n",
       "      <td>6</td>\n",
       "      <td>84</td>\n",
       "      <td>2013-12-19</td>\n",
       "      <td>20</td>\n",
       "    </tr>\n",
       "    <tr>\n",
       "      <th>98</th>\n",
       "      <td>583</td>\n",
       "      <td>4</td>\n",
       "      <td>2013-12-18</td>\n",
       "      <td>7</td>\n",
       "      <td>2014-01-07</td>\n",
       "      <td>293092</td>\n",
       "      <td>20</td>\n",
       "      <td>2258</td>\n",
       "      <td>78</td>\n",
       "      <td>969</td>\n",
       "      <td>\"The Gu\" red shirt XML tag t-shirt (White) XS</td>\n",
       "      <td>969</td>\n",
       "      <td>6</td>\n",
       "      <td>84</td>\n",
       "      <td>2013-12-19</td>\n",
       "      <td>20</td>\n",
       "    </tr>\n",
       "    <tr>\n",
       "      <th>99</th>\n",
       "      <td>583</td>\n",
       "      <td>4</td>\n",
       "      <td>2013-12-18</td>\n",
       "      <td>7</td>\n",
       "      <td>2014-01-07</td>\n",
       "      <td>293092</td>\n",
       "      <td>20</td>\n",
       "      <td>2259</td>\n",
       "      <td>80</td>\n",
       "      <td>394</td>\n",
       "      <td>\"The Gu\" red shirt XML tag t-shirt (White) M</td>\n",
       "      <td>394</td>\n",
       "      <td>6</td>\n",
       "      <td>84</td>\n",
       "      <td>2013-12-19</td>\n",
       "      <td>20</td>\n",
       "    </tr>\n",
       "  </tbody>\n",
       "</table>\n",
       "<p>100 rows × 16 columns</p>\n",
       "</div>"
      ],
      "text/plain": [
       "     0   1           2   3           4          5   6     7    8    9   \\\n",
       "0   558   4  2013-12-02   7  2013-12-22     293092   8  2160   77  767   \n",
       "1   558   4  2013-12-02   7  2013-12-22     293092   8  2161   78  981   \n",
       "2   558   4  2013-12-02   7  2013-12-22     293092   8  2162   80  397   \n",
       "3   558   4  2013-12-02   7  2013-12-22     293092   8  2163   86  816   \n",
       "4   558   4  2013-12-02   7  2013-12-22     293092   8  2164   95  521   \n",
       "..  ...  ..         ...  ..         ...        ...  ..   ...  ...  ...   \n",
       "95  582   7  2013-12-17   2  2014-01-06  BC0280982  15  2255  193  408   \n",
       "96  582   7  2013-12-17   2  2014-01-06  BC0280982  15  2256  204  483   \n",
       "97  583   4  2013-12-18   7  2014-01-07     293092  20  2257   77  837   \n",
       "98  583   4  2013-12-18   7  2014-01-07     293092  20  2258   78  969   \n",
       "99  583   4  2013-12-18   7  2014-01-07     293092  20  2259   80  394   \n",
       "\n",
       "                                                   10   11  12   13  \\\n",
       "0      \"The Gu\" red shirt XML tag t-shirt (White) XXS  767   6   84   \n",
       "1       \"The Gu\" red shirt XML tag t-shirt (White) XS  981   6   84   \n",
       "2        \"The Gu\" red shirt XML tag t-shirt (White) M  397   6   84   \n",
       "3      \"The Gu\" red shirt XML tag t-shirt (White) 5XL  816   6   96   \n",
       "4       \"The Gu\" red shirt XML tag t-shirt (Black) XL  521   6   90   \n",
       "..                                                ...  ...  ..  ...   \n",
       "95  Black and orange glass with care despatch tape...  408   7   38   \n",
       "96                               Tape dispenser (Red)  483   7  170   \n",
       "97     \"The Gu\" red shirt XML tag t-shirt (White) XXS  837   6   84   \n",
       "98      \"The Gu\" red shirt XML tag t-shirt (White) XS  969   6   84   \n",
       "99       \"The Gu\" red shirt XML tag t-shirt (White) M  394   6   84   \n",
       "\n",
       "            14  15  \n",
       "0   2013-12-03   8  \n",
       "1   2013-12-03   8  \n",
       "2   2013-12-03   8  \n",
       "3   2013-12-03   8  \n",
       "4   2013-12-03   8  \n",
       "..         ...  ..  \n",
       "95  2013-12-18  15  \n",
       "96  2013-12-18  15  \n",
       "97  2013-12-19  20  \n",
       "98  2013-12-19  20  \n",
       "99  2013-12-19  20  \n",
       "\n",
       "[100 rows x 16 columns]"
      ]
     },
     "execution_count": 134,
     "metadata": {},
     "output_type": "execute_result"
    }
   ],
   "source": [
    "pd.DataFrame(df)"
   ]
  },
  {
   "cell_type": "code",
   "execution_count": 135,
   "id": "8c57788d",
   "metadata": {
    "collapsed": true,
    "jupyter": {
     "outputs_hidden": true
    }
   },
   "outputs": [
    {
     "ename": "ProgrammingError",
     "evalue": "255002: Optional dependency: 'pyarrow' is not installed, please see the following link for install instructions: https://docs.snowflake.com/en/user-guide/python-connector-pandas.html#installation",
     "output_type": "error",
     "traceback": [
      "\u001b[0;31m---------------------------------------------------------------------------\u001b[0m",
      "\u001b[0;31mProgrammingError\u001b[0m                          Traceback (most recent call last)",
      "\u001b[0;32m<ipython-input-135-93cc154e0c88>\u001b[0m in \u001b[0;36m<module>\u001b[0;34m\u001b[0m\n\u001b[0;32m----> 1\u001b[0;31m \u001b[0mdf\u001b[0m \u001b[0;34m=\u001b[0m \u001b[0mcur\u001b[0m\u001b[0;34m.\u001b[0m\u001b[0mfetch_pandas_all\u001b[0m\u001b[0;34m(\u001b[0m\u001b[0;34m)\u001b[0m\u001b[0;34m\u001b[0m\u001b[0;34m\u001b[0m\u001b[0m\n\u001b[0m",
      "\u001b[0;32m~/.rsm-msba/lib/python3.8/site-packages/snowflake/connector/cursor.py\u001b[0m in \u001b[0;36mfetch_pandas_all\u001b[0;34m(self, **kwargs)\u001b[0m\n\u001b[1;32m    972\u001b[0m     \u001b[0;32mdef\u001b[0m \u001b[0mfetch_pandas_all\u001b[0m\u001b[0;34m(\u001b[0m\u001b[0mself\u001b[0m\u001b[0;34m,\u001b[0m \u001b[0;34m**\u001b[0m\u001b[0mkwargs\u001b[0m\u001b[0;34m)\u001b[0m \u001b[0;34m->\u001b[0m \u001b[0;34m\"pandas.DataFrame\"\u001b[0m\u001b[0;34m:\u001b[0m\u001b[0;34m\u001b[0m\u001b[0;34m\u001b[0m\u001b[0m\n\u001b[1;32m    973\u001b[0m         \u001b[0;34m\"\"\"Fetch Pandas dataframes in batches, where 'batch' refers to Snowflake Chunk.\"\"\"\u001b[0m\u001b[0;34m\u001b[0m\u001b[0;34m\u001b[0m\u001b[0m\n\u001b[0;32m--> 974\u001b[0;31m         \u001b[0mself\u001b[0m\u001b[0;34m.\u001b[0m\u001b[0mcheck_can_use_pandas\u001b[0m\u001b[0;34m(\u001b[0m\u001b[0;34m)\u001b[0m\u001b[0;34m\u001b[0m\u001b[0;34m\u001b[0m\u001b[0m\n\u001b[0m\u001b[1;32m    975\u001b[0m         \u001b[0;32mif\u001b[0m \u001b[0mself\u001b[0m\u001b[0;34m.\u001b[0m\u001b[0m_prefetch_hook\u001b[0m \u001b[0;32mis\u001b[0m \u001b[0;32mnot\u001b[0m \u001b[0;32mNone\u001b[0m\u001b[0;34m:\u001b[0m\u001b[0;34m\u001b[0m\u001b[0;34m\u001b[0m\u001b[0m\n\u001b[1;32m    976\u001b[0m             \u001b[0mself\u001b[0m\u001b[0;34m.\u001b[0m\u001b[0m_prefetch_hook\u001b[0m\u001b[0;34m(\u001b[0m\u001b[0;34m)\u001b[0m\u001b[0;34m\u001b[0m\u001b[0;34m\u001b[0m\u001b[0m\n",
      "\u001b[0;32m~/.rsm-msba/lib/python3.8/site-packages/snowflake/connector/cursor.py\u001b[0m in \u001b[0;36mcheck_can_use_pandas\u001b[0;34m(self)\u001b[0m\n\u001b[1;32m    897\u001b[0m             \u001b[0merrno\u001b[0m \u001b[0;34m=\u001b[0m \u001b[0mER_NO_PYARROW\u001b[0m\u001b[0;34m\u001b[0m\u001b[0;34m\u001b[0m\u001b[0m\n\u001b[1;32m    898\u001b[0m \u001b[0;34m\u001b[0m\u001b[0m\n\u001b[0;32m--> 899\u001b[0;31m             Error.errorhandler_wrapper(\n\u001b[0m\u001b[1;32m    900\u001b[0m                 \u001b[0mself\u001b[0m\u001b[0;34m.\u001b[0m\u001b[0mconnection\u001b[0m\u001b[0;34m,\u001b[0m\u001b[0;34m\u001b[0m\u001b[0;34m\u001b[0m\u001b[0m\n\u001b[1;32m    901\u001b[0m                 \u001b[0mself\u001b[0m\u001b[0;34m,\u001b[0m\u001b[0;34m\u001b[0m\u001b[0;34m\u001b[0m\u001b[0m\n",
      "\u001b[0;32m~/.rsm-msba/lib/python3.8/site-packages/snowflake/connector/errors.py\u001b[0m in \u001b[0;36merrorhandler_wrapper\u001b[0;34m(connection, cursor, error_class, error_value)\u001b[0m\n\u001b[1;32m    270\u001b[0m         \"\"\"\n\u001b[1;32m    271\u001b[0m \u001b[0;34m\u001b[0m\u001b[0m\n\u001b[0;32m--> 272\u001b[0;31m         handed_over = Error.hand_to_other_handler(\n\u001b[0m\u001b[1;32m    273\u001b[0m             \u001b[0mconnection\u001b[0m\u001b[0;34m,\u001b[0m\u001b[0;34m\u001b[0m\u001b[0;34m\u001b[0m\u001b[0m\n\u001b[1;32m    274\u001b[0m             \u001b[0mcursor\u001b[0m\u001b[0;34m,\u001b[0m\u001b[0;34m\u001b[0m\u001b[0;34m\u001b[0m\u001b[0m\n",
      "\u001b[0;32m~/.rsm-msba/lib/python3.8/site-packages/snowflake/connector/errors.py\u001b[0m in \u001b[0;36mhand_to_other_handler\u001b[0;34m(connection, cursor, error_class, error_value)\u001b[0m\n\u001b[1;32m    325\u001b[0m         \u001b[0;32mif\u001b[0m \u001b[0mcursor\u001b[0m \u001b[0;32mis\u001b[0m \u001b[0;32mnot\u001b[0m \u001b[0;32mNone\u001b[0m\u001b[0;34m:\u001b[0m\u001b[0;34m\u001b[0m\u001b[0;34m\u001b[0m\u001b[0m\n\u001b[1;32m    326\u001b[0m             \u001b[0mcursor\u001b[0m\u001b[0;34m.\u001b[0m\u001b[0mmessages\u001b[0m\u001b[0;34m.\u001b[0m\u001b[0mappend\u001b[0m\u001b[0;34m(\u001b[0m\u001b[0;34m(\u001b[0m\u001b[0merror_class\u001b[0m\u001b[0;34m,\u001b[0m \u001b[0merror_value\u001b[0m\u001b[0;34m)\u001b[0m\u001b[0;34m)\u001b[0m\u001b[0;34m\u001b[0m\u001b[0;34m\u001b[0m\u001b[0m\n\u001b[0;32m--> 327\u001b[0;31m             \u001b[0mcursor\u001b[0m\u001b[0;34m.\u001b[0m\u001b[0merrorhandler\u001b[0m\u001b[0;34m(\u001b[0m\u001b[0mconnection\u001b[0m\u001b[0;34m,\u001b[0m \u001b[0mcursor\u001b[0m\u001b[0;34m,\u001b[0m \u001b[0merror_class\u001b[0m\u001b[0;34m,\u001b[0m \u001b[0merror_value\u001b[0m\u001b[0;34m)\u001b[0m\u001b[0;34m\u001b[0m\u001b[0;34m\u001b[0m\u001b[0m\n\u001b[0m\u001b[1;32m    328\u001b[0m             \u001b[0;32mreturn\u001b[0m \u001b[0;32mTrue\u001b[0m\u001b[0;34m\u001b[0m\u001b[0;34m\u001b[0m\u001b[0m\n\u001b[1;32m    329\u001b[0m         \u001b[0;32melif\u001b[0m \u001b[0mconnection\u001b[0m \u001b[0;32mis\u001b[0m \u001b[0;32mnot\u001b[0m \u001b[0;32mNone\u001b[0m\u001b[0;34m:\u001b[0m\u001b[0;34m\u001b[0m\u001b[0;34m\u001b[0m\u001b[0m\n",
      "\u001b[0;32m~/.rsm-msba/lib/python3.8/site-packages/snowflake/connector/errors.py\u001b[0m in \u001b[0;36mdefault_errorhandler\u001b[0;34m(connection, cursor, error_class, error_value)\u001b[0m\n\u001b[1;32m    204\u001b[0m             \u001b[0mA\u001b[0m \u001b[0mSnowflake\u001b[0m \u001b[0merror\u001b[0m\u001b[0;34m.\u001b[0m\u001b[0;34m\u001b[0m\u001b[0;34m\u001b[0m\u001b[0m\n\u001b[1;32m    205\u001b[0m         \"\"\"\n\u001b[0;32m--> 206\u001b[0;31m         raise error_class(\n\u001b[0m\u001b[1;32m    207\u001b[0m             \u001b[0mmsg\u001b[0m\u001b[0;34m=\u001b[0m\u001b[0merror_value\u001b[0m\u001b[0;34m.\u001b[0m\u001b[0mget\u001b[0m\u001b[0;34m(\u001b[0m\u001b[0;34m\"msg\"\u001b[0m\u001b[0;34m)\u001b[0m\u001b[0;34m,\u001b[0m\u001b[0;34m\u001b[0m\u001b[0;34m\u001b[0m\u001b[0m\n\u001b[1;32m    208\u001b[0m             \u001b[0merrno\u001b[0m\u001b[0;34m=\u001b[0m\u001b[0merror_value\u001b[0m\u001b[0;34m.\u001b[0m\u001b[0mget\u001b[0m\u001b[0;34m(\u001b[0m\u001b[0;34m\"errno\"\u001b[0m\u001b[0;34m)\u001b[0m\u001b[0;34m,\u001b[0m\u001b[0;34m\u001b[0m\u001b[0;34m\u001b[0m\u001b[0m\n",
      "\u001b[0;31mProgrammingError\u001b[0m: 255002: Optional dependency: 'pyarrow' is not installed, please see the following link for install instructions: https://docs.snowflake.com/en/user-guide/python-connector-pandas.html#installation"
     ]
    }
   ],
   "source": [
    "df = cur.fetch_pandas_all() # I can't figure out why it cann't find the method when it did install... but there's always the fetchall() method"
   ]
  },
  {
   "cell_type": "code",
   "execution_count": 136,
   "id": "01c3d4c9",
   "metadata": {},
   "outputs": [],
   "source": [
    "sql = \"LIST @%monthly_po\"\n",
    "cur.execute(sql)\n",
    "result = cur.fetchall()"
   ]
  },
  {
   "cell_type": "code",
   "execution_count": 140,
   "id": "0768e026",
   "metadata": {},
   "outputs": [
    {
     "data": {
      "text/plain": [
       "(41, 4)"
      ]
     },
     "execution_count": 140,
     "metadata": {},
     "output_type": "execute_result"
    }
   ],
   "source": [
    "pd.DataFrame(result).shape"
   ]
  },
  {
   "cell_type": "code",
   "execution_count": 145,
   "id": "a3058217",
   "metadata": {
    "collapsed": true,
    "jupyter": {
     "outputs_hidden": true
    }
   },
   "outputs": [
    {
     "ename": "ProgrammingError",
     "evalue": "255002: Optional dependency: 'pyarrow' is not installed, please see the following link for install instructions: https://docs.snowflake.com/en/user-guide/python-connector-pandas.html#installation",
     "output_type": "error",
     "traceback": [
      "\u001b[0;31m---------------------------------------------------------------------------\u001b[0m",
      "\u001b[0;31mProgrammingError\u001b[0m                          Traceback (most recent call last)",
      "\u001b[0;32m<ipython-input-145-83b93fd02a8f>\u001b[0m in \u001b[0;36m<module>\u001b[0;34m\u001b[0m\n\u001b[0;32m----> 1\u001b[0;31m \u001b[0mresult\u001b[0m \u001b[0;34m=\u001b[0m \u001b[0mcur\u001b[0m\u001b[0;34m.\u001b[0m\u001b[0mfetch_pandas_all\u001b[0m\u001b[0;34m(\u001b[0m\u001b[0;34m)\u001b[0m\u001b[0;34m\u001b[0m\u001b[0;34m\u001b[0m\u001b[0m\n\u001b[0m",
      "\u001b[0;32m~/.rsm-msba/lib/python3.8/site-packages/snowflake/connector/cursor.py\u001b[0m in \u001b[0;36mfetch_pandas_all\u001b[0;34m(self, **kwargs)\u001b[0m\n\u001b[1;32m    972\u001b[0m     \u001b[0;32mdef\u001b[0m \u001b[0mfetch_pandas_all\u001b[0m\u001b[0;34m(\u001b[0m\u001b[0mself\u001b[0m\u001b[0;34m,\u001b[0m \u001b[0;34m**\u001b[0m\u001b[0mkwargs\u001b[0m\u001b[0;34m)\u001b[0m \u001b[0;34m->\u001b[0m \u001b[0;34m\"pandas.DataFrame\"\u001b[0m\u001b[0;34m:\u001b[0m\u001b[0;34m\u001b[0m\u001b[0;34m\u001b[0m\u001b[0m\n\u001b[1;32m    973\u001b[0m         \u001b[0;34m\"\"\"Fetch Pandas dataframes in batches, where 'batch' refers to Snowflake Chunk.\"\"\"\u001b[0m\u001b[0;34m\u001b[0m\u001b[0;34m\u001b[0m\u001b[0m\n\u001b[0;32m--> 974\u001b[0;31m         \u001b[0mself\u001b[0m\u001b[0;34m.\u001b[0m\u001b[0mcheck_can_use_pandas\u001b[0m\u001b[0;34m(\u001b[0m\u001b[0;34m)\u001b[0m\u001b[0;34m\u001b[0m\u001b[0;34m\u001b[0m\u001b[0m\n\u001b[0m\u001b[1;32m    975\u001b[0m         \u001b[0;32mif\u001b[0m \u001b[0mself\u001b[0m\u001b[0;34m.\u001b[0m\u001b[0m_prefetch_hook\u001b[0m \u001b[0;32mis\u001b[0m \u001b[0;32mnot\u001b[0m \u001b[0;32mNone\u001b[0m\u001b[0;34m:\u001b[0m\u001b[0;34m\u001b[0m\u001b[0;34m\u001b[0m\u001b[0m\n\u001b[1;32m    976\u001b[0m             \u001b[0mself\u001b[0m\u001b[0;34m.\u001b[0m\u001b[0m_prefetch_hook\u001b[0m\u001b[0;34m(\u001b[0m\u001b[0;34m)\u001b[0m\u001b[0;34m\u001b[0m\u001b[0;34m\u001b[0m\u001b[0m\n",
      "\u001b[0;32m~/.rsm-msba/lib/python3.8/site-packages/snowflake/connector/cursor.py\u001b[0m in \u001b[0;36mcheck_can_use_pandas\u001b[0;34m(self)\u001b[0m\n\u001b[1;32m    897\u001b[0m             \u001b[0merrno\u001b[0m \u001b[0;34m=\u001b[0m \u001b[0mER_NO_PYARROW\u001b[0m\u001b[0;34m\u001b[0m\u001b[0;34m\u001b[0m\u001b[0m\n\u001b[1;32m    898\u001b[0m \u001b[0;34m\u001b[0m\u001b[0m\n\u001b[0;32m--> 899\u001b[0;31m             Error.errorhandler_wrapper(\n\u001b[0m\u001b[1;32m    900\u001b[0m                 \u001b[0mself\u001b[0m\u001b[0;34m.\u001b[0m\u001b[0mconnection\u001b[0m\u001b[0;34m,\u001b[0m\u001b[0;34m\u001b[0m\u001b[0;34m\u001b[0m\u001b[0m\n\u001b[1;32m    901\u001b[0m                 \u001b[0mself\u001b[0m\u001b[0;34m,\u001b[0m\u001b[0;34m\u001b[0m\u001b[0;34m\u001b[0m\u001b[0m\n",
      "\u001b[0;32m~/.rsm-msba/lib/python3.8/site-packages/snowflake/connector/errors.py\u001b[0m in \u001b[0;36merrorhandler_wrapper\u001b[0;34m(connection, cursor, error_class, error_value)\u001b[0m\n\u001b[1;32m    270\u001b[0m         \"\"\"\n\u001b[1;32m    271\u001b[0m \u001b[0;34m\u001b[0m\u001b[0m\n\u001b[0;32m--> 272\u001b[0;31m         handed_over = Error.hand_to_other_handler(\n\u001b[0m\u001b[1;32m    273\u001b[0m             \u001b[0mconnection\u001b[0m\u001b[0;34m,\u001b[0m\u001b[0;34m\u001b[0m\u001b[0;34m\u001b[0m\u001b[0m\n\u001b[1;32m    274\u001b[0m             \u001b[0mcursor\u001b[0m\u001b[0;34m,\u001b[0m\u001b[0;34m\u001b[0m\u001b[0;34m\u001b[0m\u001b[0m\n",
      "\u001b[0;32m~/.rsm-msba/lib/python3.8/site-packages/snowflake/connector/errors.py\u001b[0m in \u001b[0;36mhand_to_other_handler\u001b[0;34m(connection, cursor, error_class, error_value)\u001b[0m\n\u001b[1;32m    325\u001b[0m         \u001b[0;32mif\u001b[0m \u001b[0mcursor\u001b[0m \u001b[0;32mis\u001b[0m \u001b[0;32mnot\u001b[0m \u001b[0;32mNone\u001b[0m\u001b[0;34m:\u001b[0m\u001b[0;34m\u001b[0m\u001b[0;34m\u001b[0m\u001b[0m\n\u001b[1;32m    326\u001b[0m             \u001b[0mcursor\u001b[0m\u001b[0;34m.\u001b[0m\u001b[0mmessages\u001b[0m\u001b[0;34m.\u001b[0m\u001b[0mappend\u001b[0m\u001b[0;34m(\u001b[0m\u001b[0;34m(\u001b[0m\u001b[0merror_class\u001b[0m\u001b[0;34m,\u001b[0m \u001b[0merror_value\u001b[0m\u001b[0;34m)\u001b[0m\u001b[0;34m)\u001b[0m\u001b[0;34m\u001b[0m\u001b[0;34m\u001b[0m\u001b[0m\n\u001b[0;32m--> 327\u001b[0;31m             \u001b[0mcursor\u001b[0m\u001b[0;34m.\u001b[0m\u001b[0merrorhandler\u001b[0m\u001b[0;34m(\u001b[0m\u001b[0mconnection\u001b[0m\u001b[0;34m,\u001b[0m \u001b[0mcursor\u001b[0m\u001b[0;34m,\u001b[0m \u001b[0merror_class\u001b[0m\u001b[0;34m,\u001b[0m \u001b[0merror_value\u001b[0m\u001b[0;34m)\u001b[0m\u001b[0;34m\u001b[0m\u001b[0;34m\u001b[0m\u001b[0m\n\u001b[0m\u001b[1;32m    328\u001b[0m             \u001b[0;32mreturn\u001b[0m \u001b[0;32mTrue\u001b[0m\u001b[0;34m\u001b[0m\u001b[0;34m\u001b[0m\u001b[0m\n\u001b[1;32m    329\u001b[0m         \u001b[0;32melif\u001b[0m \u001b[0mconnection\u001b[0m \u001b[0;32mis\u001b[0m \u001b[0;32mnot\u001b[0m \u001b[0;32mNone\u001b[0m\u001b[0;34m:\u001b[0m\u001b[0;34m\u001b[0m\u001b[0;34m\u001b[0m\u001b[0m\n",
      "\u001b[0;32m~/.rsm-msba/lib/python3.8/site-packages/snowflake/connector/errors.py\u001b[0m in \u001b[0;36mdefault_errorhandler\u001b[0;34m(connection, cursor, error_class, error_value)\u001b[0m\n\u001b[1;32m    204\u001b[0m             \u001b[0mA\u001b[0m \u001b[0mSnowflake\u001b[0m \u001b[0merror\u001b[0m\u001b[0;34m.\u001b[0m\u001b[0;34m\u001b[0m\u001b[0;34m\u001b[0m\u001b[0m\n\u001b[1;32m    205\u001b[0m         \"\"\"\n\u001b[0;32m--> 206\u001b[0;31m         raise error_class(\n\u001b[0m\u001b[1;32m    207\u001b[0m             \u001b[0mmsg\u001b[0m\u001b[0;34m=\u001b[0m\u001b[0merror_value\u001b[0m\u001b[0;34m.\u001b[0m\u001b[0mget\u001b[0m\u001b[0;34m(\u001b[0m\u001b[0;34m\"msg\"\u001b[0m\u001b[0;34m)\u001b[0m\u001b[0;34m,\u001b[0m\u001b[0;34m\u001b[0m\u001b[0;34m\u001b[0m\u001b[0m\n\u001b[1;32m    208\u001b[0m             \u001b[0merrno\u001b[0m\u001b[0;34m=\u001b[0m\u001b[0merror_value\u001b[0m\u001b[0;34m.\u001b[0m\u001b[0mget\u001b[0m\u001b[0;34m(\u001b[0m\u001b[0;34m\"errno\"\u001b[0m\u001b[0;34m)\u001b[0m\u001b[0;34m,\u001b[0m\u001b[0;34m\u001b[0m\u001b[0;34m\u001b[0m\u001b[0m\n",
      "\u001b[0;31mProgrammingError\u001b[0m: 255002: Optional dependency: 'pyarrow' is not installed, please see the following link for install instructions: https://docs.snowflake.com/en/user-guide/python-connector-pandas.html#installation"
     ]
    }
   ],
   "source": [
    "result = cur.fetch_pandas_all()"
   ]
  },
  {
   "cell_type": "code",
   "execution_count": 190,
   "id": "73e2b1b4",
   "metadata": {},
   "outputs": [
    {
     "data": {
      "text/plain": [
       "False"
      ]
     },
     "execution_count": 190,
     "metadata": {},
     "output_type": "execute_result"
    }
   ],
   "source": [
    "cur.close()"
   ]
  }
 ],
 "metadata": {
  "kernelspec": {
   "display_name": "Python 3",
   "language": "python",
   "name": "python3"
  },
  "language_info": {
   "codemirror_mode": {
    "name": "ipython",
    "version": 3
   },
   "file_extension": ".py",
   "mimetype": "text/x-python",
   "name": "python",
   "nbconvert_exporter": "python",
   "pygments_lexer": "ipython3",
   "version": "3.8.5"
  }
 },
 "nbformat": 4,
 "nbformat_minor": 5
}
